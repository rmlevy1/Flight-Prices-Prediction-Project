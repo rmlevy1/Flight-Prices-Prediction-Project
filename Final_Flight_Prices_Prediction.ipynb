{
 "cells": [
  {
   "cell_type": "markdown",
   "metadata": {},
   "source": [
    "## Imports \n"
   ]
  },
  {
   "cell_type": "code",
   "execution_count": 2,
   "metadata": {},
   "outputs": [],
   "source": [
    "import pandas as pd\n",
    "pd.set_option('display.max_columns', 300)\n",
    "import numpy as np\n",
    "from matplotlib import pyplot as plt\n",
    "from sklearn import linear_model\n",
    "from sklearn.linear_model import Lasso, Ridge, LinearRegression\n",
    "from sklearn.model_selection import train_test_split\n",
    "from sklearn import metrics\n",
    "from sklearn.preprocessing import PolynomialFeatures\n",
    "from scipy.stats import shapiro\n",
    "from scipy.stats import normaltest\n",
    "from sklearn.preprocessing import StandardScaler, RobustScaler\n",
    "import seaborn as sns\n",
    "from statsmodels.formula.api import ols\n",
    "import statsmodels.api as sm\n",
    "%matplotlib inline\n",
    "sns.set(style=\"whitegrid\")"
   ]
  },
  {
   "cell_type": "code",
   "execution_count": 3,
   "metadata": {},
   "outputs": [
    {
     "data": {
      "text/html": [
       "<style type=\"text/css\">\n",
       "table.dataframe td, table.dataframe th {\n",
       "    border: 1px  black solid !important;\n",
       "  color: black !important;\n",
       "}\n"
      ],
      "text/plain": [
       "<IPython.core.display.HTML object>"
      ]
     },
     "metadata": {},
     "output_type": "display_data"
    }
   ],
   "source": [
    "%%HTML\n",
    "<style type=\"text/css\">\n",
    "table.dataframe td, table.dataframe th {\n",
    "    border: 1px  black solid !important;\n",
    "  color: black !important;\n",
    "}"
   ]
  },
  {
   "cell_type": "code",
   "execution_count": 4,
   "metadata": {},
   "outputs": [],
   "source": [
    "df = pd.read_csv('pek-sha.csv')\n",
    "df1 = pd.read_csv('sha-pek.csv')"
   ]
  },
  {
   "cell_type": "markdown",
   "metadata": {},
   "source": [
    "## data cleaning"
   ]
  },
  {
   "cell_type": "code",
   "execution_count": null,
   "metadata": {},
   "outputs": [],
   "source": [
    "df.head()"
   ]
  },
  {
   "cell_type": "code",
   "execution_count": 5,
   "metadata": {},
   "outputs": [],
   "source": [
    "## fill Nan's with 0 in the transit column \n",
    "\n",
    "df.traAirport.fillna(0, inplace = True)"
   ]
  },
  {
   "cell_type": "code",
   "execution_count": 6,
   "metadata": {},
   "outputs": [],
   "source": [
    "df.traAirport.replace('LYA',1, inplace = True)"
   ]
  },
  {
   "cell_type": "code",
   "execution_count": 7,
   "metadata": {},
   "outputs": [],
   "source": [
    "df1.traAirport.fillna(0, inplace = True)"
   ]
  },
  {
   "cell_type": "code",
   "execution_count": 8,
   "metadata": {},
   "outputs": [],
   "source": [
    "df1.traAirport.replace('LYA',1, inplace = True)"
   ]
  },
  {
   "cell_type": "code",
   "execution_count": null,
   "metadata": {},
   "outputs": [],
   "source": [
    "## , kind=\"reg\"\n",
    "sns.scatterplot(x='priceClass', y='price', data=df)"
   ]
  },
  {
   "cell_type": "code",
   "execution_count": 9,
   "metadata": {},
   "outputs": [],
   "source": [
    "df['price'] = [x * 0.14 for x in df['price']]"
   ]
  },
  {
   "cell_type": "code",
   "execution_count": 10,
   "metadata": {},
   "outputs": [],
   "source": [
    "df1['price'] = [x * 0.14 for x in df1['price']]"
   ]
  },
  {
   "cell_type": "code",
   "execution_count": 11,
   "metadata": {},
   "outputs": [],
   "source": [
    "df1.dateDifference = np.where(df1.dateDifference == -1, np.nan, df1.dateDifference)\n",
    "df1.dropna(inplace=True)"
   ]
  },
  {
   "cell_type": "markdown",
   "metadata": {},
   "source": [
    "## EDA"
   ]
  },
  {
   "cell_type": "markdown",
   "metadata": {},
   "source": [
    "#### DATA_SET 1"
   ]
  },
  {
   "cell_type": "code",
   "execution_count": null,
   "metadata": {},
   "outputs": [],
   "source": [
    "sns.heatmap(df.isnull(), cbar=False)"
   ]
  },
  {
   "cell_type": "code",
   "execution_count": 107,
   "metadata": {},
   "outputs": [
    {
     "data": {
      "text/plain": [
       "<matplotlib.axes._subplots.AxesSubplot at 0x1c3a3ee198>"
      ]
     },
     "execution_count": 107,
     "metadata": {},
     "output_type": "execute_result"
    },
    {
     "data": {
      "image/png": "[encoded data removed]",
      "text/plain": [
       "<Figure size 432x288 with 1 Axes>"
      ]
     },
     "metadata": {
      "needs_background": "light"
     },
     "output_type": "display_data"
    }
   ],
   "source": [
    "sns.barplot(x = df['TOPD_L'], y = df['price'], data = df)\n",
    "# plt.legend(labels=['legendEntry1', 'legendEntry2', 'legendEntry3'])"
   ]
  },
  {
   "cell_type": "code",
   "execution_count": 108,
   "metadata": {},
   "outputs": [
    {
     "data": {
      "text/plain": [
       "<matplotlib.axes._subplots.AxesSubplot at 0x1c431deb70>"
      ]
     },
     "execution_count": 108,
     "metadata": {},
     "output_type": "execute_result"
    },
    {
     "data": {
      "image/png": "[encoded data removed]",
      "text/plain": [
       "<Figure size 432x288 with 1 Axes>"
      ]
     },
     "metadata": {
      "needs_background": "light"
     },
     "output_type": "display_data"
    }
   ],
   "source": [
    "sns.barplot(x = df['MOPD'], y = df['price'], data = df)"
   ]
  },
  {
   "cell_type": "code",
   "execution_count": 109,
   "metadata": {},
   "outputs": [
    {
     "data": {
      "text/plain": [
       "<matplotlib.legend.Legend at 0x1c4256e080>"
      ]
     },
     "execution_count": 109,
     "metadata": {},
     "output_type": "execute_result"
    },
    {
     "data": {
      "image/png": "[encoded data removed]",
      "text/plain": [
       "<Figure size 432x288 with 1 Axes>"
      ]
     },
     "metadata": {
      "needs_background": "light"
     },
     "output_type": "display_data"
    }
   ],
   "source": [
    "sns.barplot(x = df['traAirport'], y = df['price'], data = df)\n",
    "plt.legend(labels=['O - DirectFlight', '1- Layover'], loc = \"lower right\")"
   ]
  },
  {
   "cell_type": "code",
   "execution_count": 110,
   "metadata": {},
   "outputs": [
    {
     "data": {
      "text/plain": [
       "<matplotlib.axes._subplots.AxesSubplot at 0x1c425e4240>"
      ]
     },
     "execution_count": 110,
     "metadata": {},
     "output_type": "execute_result"
    },
    {
     "data": {
      "image/png": "[encoded data removed]",
      "text/plain": [
       "<Figure size 432x288 with 1 Axes>"
      ]
     },
     "metadata": {
      "needs_background": "light"
     },
     "output_type": "display_data"
    }
   ],
   "source": [
    "sns.barplot(x = df['dateDifference'], y = df['price'], data = df)"
   ]
  },
  {
   "cell_type": "code",
   "execution_count": 111,
   "metadata": {},
   "outputs": [
    {
     "data": {
      "text/plain": [
       "<matplotlib.axes._subplots.AxesSubplot at 0x1c42aef940>"
      ]
     },
     "execution_count": 111,
     "metadata": {},
     "output_type": "execute_result"
    },
    {
     "data": {
      "image/png": "[encoded data removed]",
      "text/plain": [
       "<Figure size 432x288 with 1 Axes>"
      ]
     },
     "metadata": {
      "needs_background": "light"
     },
     "output_type": "display_data"
    }
   ],
   "source": [
    "sns.barplot(x = df['Month'], y = df['price'], data = df)"
   ]
  },
  {
   "cell_type": "code",
   "execution_count": 114,
   "metadata": {},
   "outputs": [
    {
     "data": {
      "text/plain": [
       "<matplotlib.axes._subplots.AxesSubplot at 0x1c3a339160>"
      ]
     },
     "execution_count": 114,
     "metadata": {},
     "output_type": "execute_result"
    },
    {
     "data": {
      "image/png": "[encoded data removed]",
      "text/plain": [
       "<Figure size 432x288 with 1 Axes>"
      ]
     },
     "metadata": {
      "needs_background": "light"
     },
     "output_type": "display_data"
    }
   ],
   "source": [
    "# Day of week departure v price\n",
    "sns.barplot(x = df['DOW'], y = df['price'], data = df)"
   ]
  },
  {
   "cell_type": "code",
   "execution_count": 115,
   "metadata": {},
   "outputs": [
    {
     "data": {
      "text/plain": [
       "<matplotlib.legend.Legend at 0x1c42ad0c50>"
      ]
     },
     "execution_count": 115,
     "metadata": {},
     "output_type": "execute_result"
    },
    {
     "data": {
      "image/png": "[encoded data removed]",
      "text/plain": [
       "<Figure size 432x288 with 1 Axes>"
      ]
     },
     "metadata": {
      "needs_background": "light"
     },
     "output_type": "display_data"
    }
   ],
   "source": [
    "sns.barplot(x = df['TODD'], y = df['price'], data = df)\n",
    "plt.legend(labels=['Morning', 'Afternoon','Night'], loc = \"lower right\")"
   ]
  },
  {
   "cell_type": "code",
   "execution_count": 116,
   "metadata": {
    "scrolled": true
   },
   "outputs": [
    {
     "data": {
      "text/plain": [
       "<matplotlib.axes._subplots.AxesSubplot at 0x1c2d2a8fd0>"
      ]
     },
     "execution_count": 116,
     "metadata": {},
     "output_type": "execute_result"
    },
    {
     "data": {
      "image/png": "[encoded data removed]",
      "text/plain": [
       "<Figure size 432x288 with 1 Axes>"
      ]
     },
     "metadata": {
      "needs_background": "light"
     },
     "output_type": "display_data"
    }
   ],
   "source": [
    "sns.barplot(x = df['cabinClass'], y = df['price'], data = df)"
   ]
  },
  {
   "cell_type": "code",
   "execution_count": 117,
   "metadata": {},
   "outputs": [
    {
     "data": {
      "text/plain": [
       "<matplotlib.axes._subplots.AxesSubplot at 0x1c4290a0b8>"
      ]
     },
     "execution_count": 117,
     "metadata": {},
     "output_type": "execute_result"
    },
    {
     "data": {
      "image/png": "[encoded data removed]",
      "text/plain": [
       "<Figure size 432x288 with 1 Axes>"
      ]
     },
     "metadata": {
      "needs_background": "light"
     },
     "output_type": "display_data"
    }
   ],
   "source": [
    "sns.barplot(x = df['DOPD'], y = df['price'], data = df)"
   ]
  },
  {
   "cell_type": "markdown",
   "metadata": {},
   "source": [
    "#### DATA_SET 2"
   ]
  },
  {
   "cell_type": "code",
   "execution_count": null,
   "metadata": {},
   "outputs": [],
   "source": [
    "sns.heatmap(df1.isnull(), cbar=False)"
   ]
  },
  {
   "cell_type": "code",
   "execution_count": 118,
   "metadata": {},
   "outputs": [
    {
     "data": {
      "text/plain": [
       "<matplotlib.axes._subplots.AxesSubplot at 0x1c3a3629b0>"
      ]
     },
     "execution_count": 118,
     "metadata": {},
     "output_type": "execute_result"
    },
    {
     "data": {
      "image/png": "[encoded data removed]",
      "text/plain": [
       "<Figure size 432x288 with 1 Axes>"
      ]
     },
     "metadata": {
      "needs_background": "light"
     },
     "output_type": "display_data"
    }
   ],
   "source": [
    "sns.barplot(x = df1['TOPD_L'], y = df1['price'], data = df1)"
   ]
  },
  {
   "cell_type": "code",
   "execution_count": 119,
   "metadata": {},
   "outputs": [
    {
     "data": {
      "text/plain": [
       "<matplotlib.axes._subplots.AxesSubplot at 0x1c42af6780>"
      ]
     },
     "execution_count": 119,
     "metadata": {},
     "output_type": "execute_result"
    },
    {
     "data": {
      "image/png": "[encoded data removed]",
      "text/plain": [
       "<Figure size 432x288 with 1 Axes>"
      ]
     },
     "metadata": {
      "needs_background": "light"
     },
     "output_type": "display_data"
    }
   ],
   "source": [
    "sns.barplot(x = df1['MOPD'], y = df1['price'], data = df1)"
   ]
  },
  {
   "cell_type": "code",
   "execution_count": 120,
   "metadata": {},
   "outputs": [
    {
     "data": {
      "text/plain": [
       "<matplotlib.axes._subplots.AxesSubplot at 0x1c3c1e2f28>"
      ]
     },
     "execution_count": 120,
     "metadata": {},
     "output_type": "execute_result"
    },
    {
     "data": {
      "image/png": "[encoded data removed]",
      "text/plain": [
       "<Figure size 432x288 with 1 Axes>"
      ]
     },
     "metadata": {
      "needs_background": "light"
     },
     "output_type": "display_data"
    }
   ],
   "source": [
    "sns.barplot(x = df1['traAirport'], y = df1['price'], data = df1)"
   ]
  },
  {
   "cell_type": "code",
   "execution_count": 121,
   "metadata": {},
   "outputs": [
    {
     "data": {
      "text/plain": [
       "<matplotlib.axes._subplots.AxesSubplot at 0x1c42af4438>"
      ]
     },
     "execution_count": 121,
     "metadata": {},
     "output_type": "execute_result"
    },
    {
     "data": {
      "image/png": "[encoded data removed]",
      "text/plain": [
       "<Figure size 432x288 with 1 Axes>"
      ]
     },
     "metadata": {
      "needs_background": "light"
     },
     "output_type": "display_data"
    }
   ],
   "source": [
    "sns.barplot(x = df1['dateDifference'], y = df1['price'], data = df1)"
   ]
  },
  {
   "cell_type": "code",
   "execution_count": 122,
   "metadata": {},
   "outputs": [
    {
     "data": {
      "text/plain": [
       "<matplotlib.axes._subplots.AxesSubplot at 0x1c3c1217f0>"
      ]
     },
     "execution_count": 122,
     "metadata": {},
     "output_type": "execute_result"
    },
    {
     "data": {
      "image/png": "[encoded data removed]",
      "text/plain": [
       "<Figure size 432x288 with 1 Axes>"
      ]
     },
     "metadata": {
      "needs_background": "light"
     },
     "output_type": "display_data"
    }
   ],
   "source": [
    "#Day of week departure vs price\n",
    "sns.barplot(x = df1['DOW'], y = df1['price'], data = df1)"
   ]
  },
  {
   "cell_type": "code",
   "execution_count": 123,
   "metadata": {
    "scrolled": true
   },
   "outputs": [
    {
     "data": {
      "text/plain": [
       "<matplotlib.axes._subplots.AxesSubplot at 0x1c3ae45940>"
      ]
     },
     "execution_count": 123,
     "metadata": {},
     "output_type": "execute_result"
    },
    {
     "data": {
      "image/png": "[encoded data removed]",
      "text/plain": [
       "<Figure size 432x288 with 1 Axes>"
      ]
     },
     "metadata": {
      "needs_background": "light"
     },
     "output_type": "display_data"
    }
   ],
   "source": [
    "sns.barplot(x = df1['TODD'], y = df1['price'], data = df1)"
   ]
  },
  {
   "cell_type": "code",
   "execution_count": 124,
   "metadata": {},
   "outputs": [
    {
     "data": {
      "text/plain": [
       "<matplotlib.axes._subplots.AxesSubplot at 0x1c300268d0>"
      ]
     },
     "execution_count": 124,
     "metadata": {},
     "output_type": "execute_result"
    },
    {
     "data": {
      "image/png": "[encoded data removed]",
      "text/plain": [
       "<Figure size 432x288 with 1 Axes>"
      ]
     },
     "metadata": {
      "needs_background": "light"
     },
     "output_type": "display_data"
    }
   ],
   "source": [
    "sns.barplot(x = df1['cabinClass'], y = df1['price'], data = df1)"
   ]
  },
  {
   "cell_type": "code",
   "execution_count": 125,
   "metadata": {
    "scrolled": true
   },
   "outputs": [
    {
     "data": {
      "text/plain": [
       "<matplotlib.axes._subplots.AxesSubplot at 0x1c3002f0f0>"
      ]
     },
     "execution_count": 125,
     "metadata": {},
     "output_type": "execute_result"
    },
    {
     "data": {
      "image/png": "[encoded data removed]",
      "text/plain": [
       "<Figure size 432x288 with 1 Axes>"
      ]
     },
     "metadata": {
      "needs_background": "light"
     },
     "output_type": "display_data"
    }
   ],
   "source": [
    "sns.barplot(x = df1['DOPD'], y = df1['price'], data = df1)"
   ]
  },
  {
   "cell_type": "code",
   "execution_count": 126,
   "metadata": {},
   "outputs": [
    {
     "data": {
      "text/plain": [
       "<matplotlib.axes._subplots.AxesSubplot at 0x1c338af3c8>"
      ]
     },
     "execution_count": 126,
     "metadata": {},
     "output_type": "execute_result"
    },
    {
     "data": {
      "image/png": "[encoded data removed]",
      "text/plain": [
       "<Figure size 432x288 with 1 Axes>"
      ]
     },
     "metadata": {
      "needs_background": "light"
     },
     "output_type": "display_data"
    }
   ],
   "source": [
    "sns.barplot(x = df1['Month'], y = df1['price'], data = df1)"
   ]
  },
  {
   "cell_type": "markdown",
   "metadata": {},
   "source": [
    "## Feature Enginnerring "
   ]
  },
  {
   "cell_type": "markdown",
   "metadata": {},
   "source": [
    "#### DEPARTURE DATE"
   ]
  },
  {
   "cell_type": "code",
   "execution_count": 12,
   "metadata": {},
   "outputs": [],
   "source": [
    "## Get the Departure Date \n",
    "df['DD']= [x[:10] for x in df.departureDate]"
   ]
  },
  {
   "cell_type": "code",
   "execution_count": 13,
   "metadata": {},
   "outputs": [],
   "source": [
    "## Get the Departure Date \n",
    "df1['DD']= [x[:10] for x in df1.departureDate]"
   ]
  },
  {
   "cell_type": "markdown",
   "metadata": {},
   "source": [
    "#### Depature Month"
   ]
  },
  {
   "cell_type": "code",
   "execution_count": 14,
   "metadata": {},
   "outputs": [],
   "source": [
    "## Get the Departure Month \n",
    "df['Month'] = [x[5:7] for x in df['DD']]"
   ]
  },
  {
   "cell_type": "code",
   "execution_count": 15,
   "metadata": {},
   "outputs": [],
   "source": [
    "## Get the Departure Month \n",
    "df1['Month'] = [x[5:7] for x in df1['DD']]"
   ]
  },
  {
   "cell_type": "code",
   "execution_count": 16,
   "metadata": {},
   "outputs": [],
   "source": [
    "import calendar \n",
    "import datetime\n"
   ]
  },
  {
   "cell_type": "code",
   "execution_count": 17,
   "metadata": {},
   "outputs": [],
   "source": [
    "## function to find the day of the week \n",
    "def findDay(date):\n",
    "    born = datetime.datetime.strptime(date, '%Y-%m-%d').weekday()\n",
    "    return (calendar.day_name[born])"
   ]
  },
  {
   "cell_type": "markdown",
   "metadata": {},
   "source": [
    "#### Day_of_week"
   ]
  },
  {
   "cell_type": "code",
   "execution_count": 18,
   "metadata": {},
   "outputs": [],
   "source": [
    "df['DOW'] = [findDay(x) for x in df['DD']]"
   ]
  },
  {
   "cell_type": "code",
   "execution_count": 19,
   "metadata": {},
   "outputs": [],
   "source": [
    "df1['DOW'] = [findDay(x) for x in df1['DD']]"
   ]
  },
  {
   "cell_type": "markdown",
   "metadata": {},
   "source": [
    "#### Time_of_day"
   ]
  },
  {
   "cell_type": "code",
   "execution_count": 20,
   "metadata": {},
   "outputs": [],
   "source": [
    "df['TOD']= [x[11:16] for x in df.departureDate]"
   ]
  },
  {
   "cell_type": "code",
   "execution_count": 21,
   "metadata": {},
   "outputs": [],
   "source": [
    "df1['TOD']= [x[11:16] for x in df1.departureDate]"
   ]
  },
  {
   "cell_type": "code",
   "execution_count": 22,
   "metadata": {},
   "outputs": [],
   "source": [
    "df['TOD'] = pd.to_datetime(df['TOD'])\n",
    "\n"
   ]
  },
  {
   "cell_type": "code",
   "execution_count": 23,
   "metadata": {},
   "outputs": [],
   "source": [
    "df1['TOD'] = pd.to_datetime(df1['TOD'])\n",
    "\n"
   ]
  },
  {
   "cell_type": "code",
   "execution_count": 24,
   "metadata": {},
   "outputs": [],
   "source": [
    "df['TOD'] = [time.time() for time in df['TOD']]"
   ]
  },
  {
   "cell_type": "code",
   "execution_count": 25,
   "metadata": {},
   "outputs": [],
   "source": [
    "df1['TOD'] = [time.time() for time in df1['TOD']]"
   ]
  },
  {
   "cell_type": "markdown",
   "metadata": {},
   "source": [
    "#### TODD"
   ]
  },
  {
   "cell_type": "code",
   "execution_count": 26,
   "metadata": {},
   "outputs": [],
   "source": [
    "df['TODD']= np.where(((df['TOD']> datetime.time(6,0)) & (df['TOD']<= datetime.time(12,0))), 'M', np.nan)\n",
    "df['TODD'] = np.where(((df['TOD']> datetime.time(12,0)) & (df['TOD']<= datetime.time(18,0))), 'A', df['TODD'])\n",
    "df['TODD'] = np.where(((df['TOD']> datetime.time(18,0)) & (df['TOD']<= datetime.time(23,0))), 'N', df['TODD'])"
   ]
  },
  {
   "cell_type": "code",
   "execution_count": 27,
   "metadata": {},
   "outputs": [],
   "source": [
    "df1['TODD']= np.where(((df1['TOD']> datetime.time(6,0)) & (df1['TOD']<= datetime.time(12,0))), 'M', np.nan)\n",
    "df1['TODD'] = np.where(((df1['TOD']> datetime.time(12,0)) & (df1['TOD']<= datetime.time(18,0))), 'A', df1['TODD'])\n",
    "df1['TODD'] = np.where(((df1['TOD']> datetime.time(18,0)) & (df1['TOD']<= datetime.time(23,0))), 'N', df1['TODD'])"
   ]
  },
  {
   "cell_type": "markdown",
   "metadata": {},
   "source": [
    "#### Purchase_Day"
   ]
  },
  {
   "cell_type": "code",
   "execution_count": 28,
   "metadata": {},
   "outputs": [],
   "source": [
    "df['PD'] = [x[:10] for x in df['createDate']]"
   ]
  },
  {
   "cell_type": "code",
   "execution_count": 29,
   "metadata": {},
   "outputs": [],
   "source": [
    "df1['PD'] = [x[:10] for x in df1['createDate']]"
   ]
  },
  {
   "cell_type": "markdown",
   "metadata": {},
   "source": [
    "#### MOPD"
   ]
  },
  {
   "cell_type": "code",
   "execution_count": 30,
   "metadata": {},
   "outputs": [],
   "source": [
    "df['MOPD'] = [x[5:7] for x in df['PD']]"
   ]
  },
  {
   "cell_type": "code",
   "execution_count": 31,
   "metadata": {},
   "outputs": [],
   "source": [
    "df1['MOPD'] = [x[5:7] for x in df1['PD']]"
   ]
  },
  {
   "cell_type": "markdown",
   "metadata": {},
   "source": [
    "#### DOPD"
   ]
  },
  {
   "cell_type": "code",
   "execution_count": 32,
   "metadata": {},
   "outputs": [],
   "source": [
    "df['DOPD'] = [x[:10] for x in df['createDate']]\n",
    "df['DOPD'] = [findDay(x) for x in df['DOPD']]"
   ]
  },
  {
   "cell_type": "code",
   "execution_count": 33,
   "metadata": {},
   "outputs": [],
   "source": [
    "df1['DOPD'] = [x[:10] for x in df1['createDate']]\n",
    "df1['DOPD'] = [findDay(x) for x in df1['DOPD']]"
   ]
  },
  {
   "cell_type": "markdown",
   "metadata": {},
   "source": [
    "#### TOPD"
   ]
  },
  {
   "cell_type": "code",
   "execution_count": 34,
   "metadata": {},
   "outputs": [],
   "source": [
    "df['TOPD'] = [x[11:16] for x in df['createDate']]\n",
    "df['TOPD'] = pd.to_datetime(df['TOPD'])\n",
    "df['TOPD'] = [time.time() for time in df['TOPD']]"
   ]
  },
  {
   "cell_type": "code",
   "execution_count": 35,
   "metadata": {},
   "outputs": [],
   "source": [
    "df1['TOPD'] = [x[11:16] for x in df1['createDate']]\n",
    "df1['TOPD'] = pd.to_datetime(df1['TOPD'])\n",
    "df1['TOPD'] = [time.time() for time in df1['TOPD']]"
   ]
  },
  {
   "cell_type": "markdown",
   "metadata": {},
   "source": [
    "#### TOPD_L"
   ]
  },
  {
   "cell_type": "code",
   "execution_count": 36,
   "metadata": {},
   "outputs": [],
   "source": [
    "df['TOPD_L']= np.where(((df['TOPD']>= datetime.time(0,0)) & (df['TOPD']< datetime.time(6,0))), 'EM', np.nan)\n",
    "df['TOPD_L']= np.where(((df['TOPD']>= datetime.time(6,0)) & (df['TOPD']<= datetime.time(12,0))), 'M', df['TOPD_L'])\n",
    "df['TOPD_L'] = np.where(((df['TOPD']> datetime.time(12,0)) & (df['TOPD']<= datetime.time(18,0))), 'A', df['TOPD_L'])\n",
    "df['TOPD_L'] = np.where(((df['TOPD']> datetime.time(18,0)) & (df['TOPD']<= datetime.time(23,59))), 'N', df['TOPD_L'])"
   ]
  },
  {
   "cell_type": "code",
   "execution_count": 37,
   "metadata": {},
   "outputs": [],
   "source": [
    "df1['TOPD_L']= np.where(((df1['TOPD']>= datetime.time(0,0)) & (df1['TOPD']< datetime.time(6,0))), 'EM', np.nan)\n",
    "df1['TOPD_L']= np.where(((df1['TOPD']>= datetime.time(6,0)) & (df1['TOPD']<= datetime.time(12,0))), 'M', df1['TOPD_L'])\n",
    "df1['TOPD_L'] = np.where(((df1['TOPD']> datetime.time(12,0)) & (df1['TOPD']<= datetime.time(18,0))), 'A', df1['TOPD_L'])\n",
    "df1['TOPD_L'] = np.where(((df1['TOPD']> datetime.time(18,0)) & (df1['TOPD']<= datetime.time(23,59))), 'N', df1['TOPD_L'])"
   ]
  },
  {
   "cell_type": "code",
   "execution_count": null,
   "metadata": {},
   "outputs": [],
   "source": [
    "df"
   ]
  },
  {
   "cell_type": "code",
   "execution_count": null,
   "metadata": {},
   "outputs": [],
   "source": [
    "df1['TOPD_L'].unique()"
   ]
  },
  {
   "cell_type": "markdown",
   "metadata": {},
   "source": []
  },
  {
   "cell_type": "code",
   "execution_count": 36,
   "metadata": {},
   "outputs": [
    {
     "data": {
      "text/plain": [
       "(300336, 24)"
      ]
     },
     "execution_count": 36,
     "metadata": {},
     "output_type": "execute_result"
    }
   ],
   "source": [
    "df.shape"
   ]
  },
  {
   "cell_type": "code",
   "execution_count": 37,
   "metadata": {},
   "outputs": [
    {
     "data": {
      "text/plain": [
       "(268581, 24)"
      ]
     },
     "execution_count": 37,
     "metadata": {},
     "output_type": "execute_result"
    }
   ],
   "source": [
    "df1.shape"
   ]
  },
  {
   "cell_type": "markdown",
   "metadata": {},
   "source": [
    "## Dummies"
   ]
  },
  {
   "cell_type": "markdown",
   "metadata": {},
   "source": [
    "#### Dummies"
   ]
  },
  {
   "cell_type": "code",
   "execution_count": 38,
   "metadata": {},
   "outputs": [],
   "source": [
    "dummies1 = pd.get_dummies(df['TOPD_L'], prefix = 'TOPD_L', drop_first = True)"
   ]
  },
  {
   "cell_type": "code",
   "execution_count": null,
   "metadata": {},
   "outputs": [],
   "source": [
    "dummies1"
   ]
  },
  {
   "cell_type": "code",
   "execution_count": null,
   "metadata": {},
   "outputs": [],
   "source": [
    "lr_model = ols(formula= 'price~dummies1', data=df).fit()\n",
    "\n",
    "lr_model.summary()"
   ]
  },
  {
   "cell_type": "code",
   "execution_count": null,
   "metadata": {},
   "outputs": [],
   "source": [
    "lr1_model = ols(formula= 'price~dummies1', data=df).fit()\n",
    "\n",
    "lr1_model.summary()"
   ]
  },
  {
   "cell_type": "markdown",
   "metadata": {},
   "source": [
    "#### More Feature Engineering "
   ]
  },
  {
   "cell_type": "code",
   "execution_count": 39,
   "metadata": {},
   "outputs": [],
   "source": [
    "df['TOPDL_1']= np.where(df['TOPD_L']== 'EM', 1, 0)"
   ]
  },
  {
   "cell_type": "code",
   "execution_count": 40,
   "metadata": {},
   "outputs": [],
   "source": [
    "df1['TOPDL_1']= np.where(((df1['TOPD_L']== 'EM') | (df1['TOPD_L']== 'M')), 1, 0)"
   ]
  },
  {
   "cell_type": "code",
   "execution_count": 42,
   "metadata": {},
   "outputs": [
    {
     "data": {
      "text/html": [
       "<div>\n",
       "<style scoped>\n",
       "    .dataframe tbody tr th:only-of-type {\n",
       "        vertical-align: middle;\n",
       "    }\n",
       "\n",
       "    .dataframe tbody tr th {\n",
       "        vertical-align: top;\n",
       "    }\n",
       "\n",
       "    .dataframe thead th {\n",
       "        text-align: right;\n",
       "    }\n",
       "</style>\n",
       "<table border=\"1\" class=\"dataframe\">\n",
       "  <thead>\n",
       "    <tr style=\"text-align: right;\">\n",
       "      <th></th>\n",
       "      <th>ID</th>\n",
       "      <th>flightNumber</th>\n",
       "      <th>craftTypeCode</th>\n",
       "      <th>depAirport</th>\n",
       "      <th>traAirport</th>\n",
       "      <th>arrAirport</th>\n",
       "      <th>departureDate</th>\n",
       "      <th>arrivalDate</th>\n",
       "      <th>cabinClass</th>\n",
       "      <th>priceClass</th>\n",
       "      <th>price</th>\n",
       "      <th>rate</th>\n",
       "      <th>createDate</th>\n",
       "      <th>dateDifference</th>\n",
       "      <th>DD</th>\n",
       "      <th>Month</th>\n",
       "      <th>DOW</th>\n",
       "      <th>TOD</th>\n",
       "      <th>TODD</th>\n",
       "      <th>PD</th>\n",
       "      <th>MOPD</th>\n",
       "      <th>DOPD</th>\n",
       "      <th>TOPD</th>\n",
       "      <th>TOPD_L</th>\n",
       "      <th>TOPDL_1</th>\n",
       "    </tr>\n",
       "  </thead>\n",
       "  <tbody>\n",
       "    <tr>\n",
       "      <td>0</td>\n",
       "      <td>78246995</td>\n",
       "      <td>CA1550</td>\n",
       "      <td>77W</td>\n",
       "      <td>SHA</td>\n",
       "      <td>0</td>\n",
       "      <td>PEK</td>\n",
       "      <td>2019-07-16 19:55:00</td>\n",
       "      <td>2019-07-16 22:10:00</td>\n",
       "      <td>C</td>\n",
       "      <td>Z</td>\n",
       "      <td>417.2</td>\n",
       "      <td>0.52</td>\n",
       "      <td>2019-07-17 02:32:27</td>\n",
       "      <td>-1</td>\n",
       "      <td>2019-07-16</td>\n",
       "      <td>07</td>\n",
       "      <td>Tuesday</td>\n",
       "      <td>19:55:00</td>\n",
       "      <td>N</td>\n",
       "      <td>2019-07-17</td>\n",
       "      <td>07</td>\n",
       "      <td>Wednesday</td>\n",
       "      <td>02:32:00</td>\n",
       "      <td>EM</td>\n",
       "      <td>1</td>\n",
       "    </tr>\n",
       "    <tr>\n",
       "      <td>1</td>\n",
       "      <td>78246997</td>\n",
       "      <td>CA1550</td>\n",
       "      <td>77W</td>\n",
       "      <td>SHA</td>\n",
       "      <td>0</td>\n",
       "      <td>PEK</td>\n",
       "      <td>2019-07-16 19:55:00</td>\n",
       "      <td>2019-07-16 22:10:00</td>\n",
       "      <td>C</td>\n",
       "      <td>J</td>\n",
       "      <td>813.4</td>\n",
       "      <td>1.00</td>\n",
       "      <td>2019-07-17 02:32:27</td>\n",
       "      <td>-1</td>\n",
       "      <td>2019-07-16</td>\n",
       "      <td>07</td>\n",
       "      <td>Tuesday</td>\n",
       "      <td>19:55:00</td>\n",
       "      <td>N</td>\n",
       "      <td>2019-07-17</td>\n",
       "      <td>07</td>\n",
       "      <td>Wednesday</td>\n",
       "      <td>02:32:00</td>\n",
       "      <td>EM</td>\n",
       "      <td>1</td>\n",
       "    </tr>\n",
       "    <tr>\n",
       "      <td>2</td>\n",
       "      <td>78246998</td>\n",
       "      <td>CA1550</td>\n",
       "      <td>77W</td>\n",
       "      <td>SHA</td>\n",
       "      <td>0</td>\n",
       "      <td>PEK</td>\n",
       "      <td>2019-07-16 19:55:00</td>\n",
       "      <td>2019-07-16 22:10:00</td>\n",
       "      <td>C</td>\n",
       "      <td>D</td>\n",
       "      <td>522.2</td>\n",
       "      <td>0.65</td>\n",
       "      <td>2019-07-17 02:32:27</td>\n",
       "      <td>-1</td>\n",
       "      <td>2019-07-16</td>\n",
       "      <td>07</td>\n",
       "      <td>Tuesday</td>\n",
       "      <td>19:55:00</td>\n",
       "      <td>N</td>\n",
       "      <td>2019-07-17</td>\n",
       "      <td>07</td>\n",
       "      <td>Wednesday</td>\n",
       "      <td>02:32:00</td>\n",
       "      <td>EM</td>\n",
       "      <td>1</td>\n",
       "    </tr>\n",
       "    <tr>\n",
       "      <td>3</td>\n",
       "      <td>78246999</td>\n",
       "      <td>CA1550</td>\n",
       "      <td>77W</td>\n",
       "      <td>SHA</td>\n",
       "      <td>0</td>\n",
       "      <td>PEK</td>\n",
       "      <td>2019-07-16 19:55:00</td>\n",
       "      <td>2019-07-16 22:10:00</td>\n",
       "      <td>C</td>\n",
       "      <td>C</td>\n",
       "      <td>583.8</td>\n",
       "      <td>0.72</td>\n",
       "      <td>2019-07-17 02:32:27</td>\n",
       "      <td>-1</td>\n",
       "      <td>2019-07-16</td>\n",
       "      <td>07</td>\n",
       "      <td>Tuesday</td>\n",
       "      <td>19:55:00</td>\n",
       "      <td>N</td>\n",
       "      <td>2019-07-17</td>\n",
       "      <td>07</td>\n",
       "      <td>Wednesday</td>\n",
       "      <td>02:32:00</td>\n",
       "      <td>EM</td>\n",
       "      <td>1</td>\n",
       "    </tr>\n",
       "    <tr>\n",
       "      <td>4</td>\n",
       "      <td>78247002</td>\n",
       "      <td>MU5125</td>\n",
       "      <td>33L</td>\n",
       "      <td>SHA</td>\n",
       "      <td>0</td>\n",
       "      <td>PEK</td>\n",
       "      <td>2019-07-16 20:05:00</td>\n",
       "      <td>2019-07-16 22:10:00</td>\n",
       "      <td>C</td>\n",
       "      <td>I</td>\n",
       "      <td>280.0</td>\n",
       "      <td>0.36</td>\n",
       "      <td>2019-07-17 02:32:27</td>\n",
       "      <td>-1</td>\n",
       "      <td>2019-07-16</td>\n",
       "      <td>07</td>\n",
       "      <td>Tuesday</td>\n",
       "      <td>20:05:00</td>\n",
       "      <td>N</td>\n",
       "      <td>2019-07-17</td>\n",
       "      <td>07</td>\n",
       "      <td>Wednesday</td>\n",
       "      <td>02:32:00</td>\n",
       "      <td>EM</td>\n",
       "      <td>1</td>\n",
       "    </tr>\n",
       "    <tr>\n",
       "      <td>...</td>\n",
       "      <td>...</td>\n",
       "      <td>...</td>\n",
       "      <td>...</td>\n",
       "      <td>...</td>\n",
       "      <td>...</td>\n",
       "      <td>...</td>\n",
       "      <td>...</td>\n",
       "      <td>...</td>\n",
       "      <td>...</td>\n",
       "      <td>...</td>\n",
       "      <td>...</td>\n",
       "      <td>...</td>\n",
       "      <td>...</td>\n",
       "      <td>...</td>\n",
       "      <td>...</td>\n",
       "      <td>...</td>\n",
       "      <td>...</td>\n",
       "      <td>...</td>\n",
       "      <td>...</td>\n",
       "      <td>...</td>\n",
       "      <td>...</td>\n",
       "      <td>...</td>\n",
       "      <td>...</td>\n",
       "      <td>...</td>\n",
       "      <td>...</td>\n",
       "    </tr>\n",
       "    <tr>\n",
       "      <td>268576</td>\n",
       "      <td>77617774</td>\n",
       "      <td>MU5389</td>\n",
       "      <td>325</td>\n",
       "      <td>SHA</td>\n",
       "      <td>1</td>\n",
       "      <td>PEK</td>\n",
       "      <td>2019-07-21 07:20:00</td>\n",
       "      <td>2019-07-21 12:00:00</td>\n",
       "      <td>Y</td>\n",
       "      <td>R</td>\n",
       "      <td>116.2</td>\n",
       "      <td>0.56</td>\n",
       "      <td>2019-07-14 23:28:01</td>\n",
       "      <td>7</td>\n",
       "      <td>2019-07-21</td>\n",
       "      <td>07</td>\n",
       "      <td>Sunday</td>\n",
       "      <td>07:20:00</td>\n",
       "      <td>M</td>\n",
       "      <td>2019-07-14</td>\n",
       "      <td>07</td>\n",
       "      <td>Sunday</td>\n",
       "      <td>23:28:00</td>\n",
       "      <td>N</td>\n",
       "      <td>0</td>\n",
       "    </tr>\n",
       "    <tr>\n",
       "      <td>268577</td>\n",
       "      <td>77617775</td>\n",
       "      <td>MU5389</td>\n",
       "      <td>325</td>\n",
       "      <td>SHA</td>\n",
       "      <td>1</td>\n",
       "      <td>PEK</td>\n",
       "      <td>2019-07-21 07:20:00</td>\n",
       "      <td>2019-07-21 12:00:00</td>\n",
       "      <td>Y</td>\n",
       "      <td>R</td>\n",
       "      <td>123.2</td>\n",
       "      <td>0.60</td>\n",
       "      <td>2019-07-14 23:28:01</td>\n",
       "      <td>7</td>\n",
       "      <td>2019-07-21</td>\n",
       "      <td>07</td>\n",
       "      <td>Sunday</td>\n",
       "      <td>07:20:00</td>\n",
       "      <td>M</td>\n",
       "      <td>2019-07-14</td>\n",
       "      <td>07</td>\n",
       "      <td>Sunday</td>\n",
       "      <td>23:28:00</td>\n",
       "      <td>N</td>\n",
       "      <td>0</td>\n",
       "    </tr>\n",
       "    <tr>\n",
       "      <td>268578</td>\n",
       "      <td>77617776</td>\n",
       "      <td>MU5389</td>\n",
       "      <td>325</td>\n",
       "      <td>SHA</td>\n",
       "      <td>1</td>\n",
       "      <td>PEK</td>\n",
       "      <td>2019-07-21 07:20:00</td>\n",
       "      <td>2019-07-21 12:00:00</td>\n",
       "      <td>Y</td>\n",
       "      <td>R</td>\n",
       "      <td>128.8</td>\n",
       "      <td>0.62</td>\n",
       "      <td>2019-07-14 23:28:01</td>\n",
       "      <td>7</td>\n",
       "      <td>2019-07-21</td>\n",
       "      <td>07</td>\n",
       "      <td>Sunday</td>\n",
       "      <td>07:20:00</td>\n",
       "      <td>M</td>\n",
       "      <td>2019-07-14</td>\n",
       "      <td>07</td>\n",
       "      <td>Sunday</td>\n",
       "      <td>23:28:00</td>\n",
       "      <td>N</td>\n",
       "      <td>0</td>\n",
       "    </tr>\n",
       "    <tr>\n",
       "      <td>268579</td>\n",
       "      <td>77617777</td>\n",
       "      <td>MU5389</td>\n",
       "      <td>325</td>\n",
       "      <td>SHA</td>\n",
       "      <td>1</td>\n",
       "      <td>PEK</td>\n",
       "      <td>2019-07-21 07:20:00</td>\n",
       "      <td>2019-07-21 12:00:00</td>\n",
       "      <td>Y</td>\n",
       "      <td>R</td>\n",
       "      <td>110.6</td>\n",
       "      <td>0.54</td>\n",
       "      <td>2019-07-14 23:28:01</td>\n",
       "      <td>7</td>\n",
       "      <td>2019-07-21</td>\n",
       "      <td>07</td>\n",
       "      <td>Sunday</td>\n",
       "      <td>07:20:00</td>\n",
       "      <td>M</td>\n",
       "      <td>2019-07-14</td>\n",
       "      <td>07</td>\n",
       "      <td>Sunday</td>\n",
       "      <td>23:28:00</td>\n",
       "      <td>N</td>\n",
       "      <td>0</td>\n",
       "    </tr>\n",
       "    <tr>\n",
       "      <td>268580</td>\n",
       "      <td>77617779</td>\n",
       "      <td>MU5389</td>\n",
       "      <td>325</td>\n",
       "      <td>SHA</td>\n",
       "      <td>1</td>\n",
       "      <td>PEK</td>\n",
       "      <td>2019-07-21 07:20:00</td>\n",
       "      <td>2019-07-21 12:00:00</td>\n",
       "      <td>Y</td>\n",
       "      <td>Y</td>\n",
       "      <td>208.6</td>\n",
       "      <td>1.00</td>\n",
       "      <td>2019-07-14 23:28:01</td>\n",
       "      <td>7</td>\n",
       "      <td>2019-07-21</td>\n",
       "      <td>07</td>\n",
       "      <td>Sunday</td>\n",
       "      <td>07:20:00</td>\n",
       "      <td>M</td>\n",
       "      <td>2019-07-14</td>\n",
       "      <td>07</td>\n",
       "      <td>Sunday</td>\n",
       "      <td>23:28:00</td>\n",
       "      <td>N</td>\n",
       "      <td>0</td>\n",
       "    </tr>\n",
       "  </tbody>\n",
       "</table>\n",
       "<p>268581 rows × 25 columns</p>\n",
       "</div>"
      ],
      "text/plain": [
       "              ID flightNumber craftTypeCode depAirport  traAirport arrAirport  \\\n",
       "0       78246995       CA1550           77W        SHA           0        PEK   \n",
       "1       78246997       CA1550           77W        SHA           0        PEK   \n",
       "2       78246998       CA1550           77W        SHA           0        PEK   \n",
       "3       78246999       CA1550           77W        SHA           0        PEK   \n",
       "4       78247002       MU5125           33L        SHA           0        PEK   \n",
       "...          ...          ...           ...        ...         ...        ...   \n",
       "268576  77617774       MU5389           325        SHA           1        PEK   \n",
       "268577  77617775       MU5389           325        SHA           1        PEK   \n",
       "268578  77617776       MU5389           325        SHA           1        PEK   \n",
       "268579  77617777       MU5389           325        SHA           1        PEK   \n",
       "268580  77617779       MU5389           325        SHA           1        PEK   \n",
       "\n",
       "              departureDate          arrivalDate cabinClass priceClass  price  \\\n",
       "0       2019-07-16 19:55:00  2019-07-16 22:10:00          C          Z  417.2   \n",
       "1       2019-07-16 19:55:00  2019-07-16 22:10:00          C          J  813.4   \n",
       "2       2019-07-16 19:55:00  2019-07-16 22:10:00          C          D  522.2   \n",
       "3       2019-07-16 19:55:00  2019-07-16 22:10:00          C          C  583.8   \n",
       "4       2019-07-16 20:05:00  2019-07-16 22:10:00          C          I  280.0   \n",
       "...                     ...                  ...        ...        ...    ...   \n",
       "268576  2019-07-21 07:20:00  2019-07-21 12:00:00          Y          R  116.2   \n",
       "268577  2019-07-21 07:20:00  2019-07-21 12:00:00          Y          R  123.2   \n",
       "268578  2019-07-21 07:20:00  2019-07-21 12:00:00          Y          R  128.8   \n",
       "268579  2019-07-21 07:20:00  2019-07-21 12:00:00          Y          R  110.6   \n",
       "268580  2019-07-21 07:20:00  2019-07-21 12:00:00          Y          Y  208.6   \n",
       "\n",
       "        rate           createDate  dateDifference          DD Month      DOW  \\\n",
       "0       0.52  2019-07-17 02:32:27              -1  2019-07-16    07  Tuesday   \n",
       "1       1.00  2019-07-17 02:32:27              -1  2019-07-16    07  Tuesday   \n",
       "2       0.65  2019-07-17 02:32:27              -1  2019-07-16    07  Tuesday   \n",
       "3       0.72  2019-07-17 02:32:27              -1  2019-07-16    07  Tuesday   \n",
       "4       0.36  2019-07-17 02:32:27              -1  2019-07-16    07  Tuesday   \n",
       "...      ...                  ...             ...         ...   ...      ...   \n",
       "268576  0.56  2019-07-14 23:28:01               7  2019-07-21    07   Sunday   \n",
       "268577  0.60  2019-07-14 23:28:01               7  2019-07-21    07   Sunday   \n",
       "268578  0.62  2019-07-14 23:28:01               7  2019-07-21    07   Sunday   \n",
       "268579  0.54  2019-07-14 23:28:01               7  2019-07-21    07   Sunday   \n",
       "268580  1.00  2019-07-14 23:28:01               7  2019-07-21    07   Sunday   \n",
       "\n",
       "             TOD TODD          PD MOPD       DOPD      TOPD TOPD_L  TOPDL_1  \n",
       "0       19:55:00    N  2019-07-17   07  Wednesday  02:32:00     EM        1  \n",
       "1       19:55:00    N  2019-07-17   07  Wednesday  02:32:00     EM        1  \n",
       "2       19:55:00    N  2019-07-17   07  Wednesday  02:32:00     EM        1  \n",
       "3       19:55:00    N  2019-07-17   07  Wednesday  02:32:00     EM        1  \n",
       "4       20:05:00    N  2019-07-17   07  Wednesday  02:32:00     EM        1  \n",
       "...          ...  ...         ...  ...        ...       ...    ...      ...  \n",
       "268576  07:20:00    M  2019-07-14   07     Sunday  23:28:00      N        0  \n",
       "268577  07:20:00    M  2019-07-14   07     Sunday  23:28:00      N        0  \n",
       "268578  07:20:00    M  2019-07-14   07     Sunday  23:28:00      N        0  \n",
       "268579  07:20:00    M  2019-07-14   07     Sunday  23:28:00      N        0  \n",
       "268580  07:20:00    M  2019-07-14   07     Sunday  23:28:00      N        0  \n",
       "\n",
       "[268581 rows x 25 columns]"
      ]
     },
     "execution_count": 42,
     "metadata": {},
     "output_type": "execute_result"
    }
   ],
   "source": [
    "df1"
   ]
  },
  {
   "cell_type": "code",
   "execution_count": 41,
   "metadata": {},
   "outputs": [],
   "source": [
    "dummiesa = pd.get_dummies(df['MOPD'], prefix = 'MOPD', drop_first = True)\n",
    "df = pd.concat([df,dummiesa], axis =1)"
   ]
  },
  {
   "cell_type": "code",
   "execution_count": null,
   "metadata": {},
   "outputs": [],
   "source": [
    "df"
   ]
  },
  {
   "cell_type": "markdown",
   "metadata": {},
   "source": []
  },
  {
   "cell_type": "code",
   "execution_count": 42,
   "metadata": {},
   "outputs": [],
   "source": [
    "dummiesMOPD = pd.get_dummies(df1['MOPD'], prefix = 'MOPD', drop_first = True)"
   ]
  },
  {
   "cell_type": "code",
   "execution_count": null,
   "metadata": {},
   "outputs": [],
   "source": [
    "dummiesMOPD"
   ]
  },
  {
   "cell_type": "code",
   "execution_count": null,
   "metadata": {},
   "outputs": [],
   "source": [
    "dummiesMOPD['price'] = df1['price']"
   ]
  },
  {
   "cell_type": "code",
   "execution_count": null,
   "metadata": {},
   "outputs": [],
   "source": [
    "dummiesMOPD.drop('price', axis= 1, inplace = True)"
   ]
  },
  {
   "cell_type": "code",
   "execution_count": null,
   "metadata": {},
   "outputs": [],
   "source": [
    "lr1_model = ols(formula= 'price~MOPD_02+MOPD_03 +MOPD_04+MOPD_05+MOPD_06+MOPD_07', data=dummiesMOPD).fit()\n",
    "\n",
    "lr1_model.summary()"
   ]
  },
  {
   "cell_type": "code",
   "execution_count": null,
   "metadata": {},
   "outputs": [],
   "source": [
    "df1.groupby('MOPD').price.mean()"
   ]
  },
  {
   "cell_type": "code",
   "execution_count": 43,
   "metadata": {},
   "outputs": [],
   "source": [
    "df1 = pd.concat([df1,dummiesMOPD], axis = 1)"
   ]
  },
  {
   "cell_type": "code",
   "execution_count": null,
   "metadata": {},
   "outputs": [],
   "source": [
    "df"
   ]
  },
  {
   "cell_type": "code",
   "execution_count": null,
   "metadata": {},
   "outputs": [],
   "source": [
    "df1"
   ]
  },
  {
   "cell_type": "code",
   "execution_count": null,
   "metadata": {},
   "outputs": [],
   "source": []
  },
  {
   "cell_type": "code",
   "execution_count": 44,
   "metadata": {},
   "outputs": [],
   "source": [
    "df1['dateDifference'] = df1['dateDifference'].astype(int)"
   ]
  },
  {
   "cell_type": "code",
   "execution_count": null,
   "metadata": {},
   "outputs": [],
   "source": [
    "df1"
   ]
  },
  {
   "cell_type": "code",
   "execution_count": 45,
   "metadata": {},
   "outputs": [],
   "source": [
    "dummiesdate_Diff = pd.get_dummies(df1['dateDifference'], prefix = 'dateDifference', drop_first = True)"
   ]
  },
  {
   "cell_type": "code",
   "execution_count": null,
   "metadata": {},
   "outputs": [],
   "source": [
    "dummiesdate_Diff"
   ]
  },
  {
   "cell_type": "code",
   "execution_count": 46,
   "metadata": {},
   "outputs": [],
   "source": [
    "df1 = pd.concat([df1,dummiesdate_Diff], axis = 1)"
   ]
  },
  {
   "cell_type": "code",
   "execution_count": null,
   "metadata": {},
   "outputs": [],
   "source": [
    "df1.shape"
   ]
  },
  {
   "cell_type": "code",
   "execution_count": 47,
   "metadata": {},
   "outputs": [],
   "source": [
    "dummiesc = pd.get_dummies(df['cabinClass'], prefix = 'cabinClass', drop_first = True)\n",
    "dummiesd = pd.get_dummies(df['Month'], prefix = 'Month', drop_first = True)\n",
    "dummiese = pd.get_dummies(df['DOW'], prefix = 'DOW', drop_first = True)\n",
    "dummiesf = pd.get_dummies(df['TODD'], prefix = 'TODD', drop_first = True)\n",
    "df = pd.concat([df,dummiesc,dummiesd,dummiese,dummiesf], axis =1)"
   ]
  },
  {
   "cell_type": "code",
   "execution_count": 48,
   "metadata": {},
   "outputs": [],
   "source": [
    "dummiesc_cabinClass = pd.get_dummies(df1['cabinClass'], prefix = 'cabinClass', drop_first = True)\n",
    "dummies_Month = pd.get_dummies(df1['Month'], prefix = 'Month', drop_first = True)\n",
    "dummies_DOW = pd.get_dummies(df1['DOW'], prefix = 'DOW', drop_first = True)\n",
    "dummies_TODD = pd.get_dummies(df1['TODD'], prefix = 'TODD', drop_first = True)\n",
    "df1 = pd.concat([df1,dummiesc_cabinClass,dummies_Month,dummies_DOW,dummies_TODD], axis =1)"
   ]
  },
  {
   "cell_type": "code",
   "execution_count": null,
   "metadata": {},
   "outputs": [],
   "source": [
    "df"
   ]
  },
  {
   "cell_type": "code",
   "execution_count": 49,
   "metadata": {},
   "outputs": [],
   "source": [
    "dummies_dateDiff = pd.get_dummies(df['dateDifference'], prefix = 'dateDifference', drop_first = True)\n",
    "df = pd.concat([df,dummies_dateDiff], axis =1)"
   ]
  },
  {
   "cell_type": "code",
   "execution_count": null,
   "metadata": {
    "scrolled": true
   },
   "outputs": [],
   "source": [
    "df.columns"
   ]
  },
  {
   "cell_type": "code",
   "execution_count": 50,
   "metadata": {},
   "outputs": [],
   "source": [
    "final_df = df.drop(['createDate','DD','PD','TOD','TOPD','TOPD_L',\n",
    "                   'ID', 'flightNumber', 'craftTypeCode', 'depAirport','arrAirport',\n",
    "                    'departureDate', 'arrivalDate','rate','priceClass',\n",
    "                   'cabinClass','dateDifference','Month','DOW','DOPD','MOPD','TODD'\n",
    "                   ],axis =1)"
   ]
  },
  {
   "cell_type": "code",
   "execution_count": 51,
   "metadata": {},
   "outputs": [
    {
     "data": {
      "text/plain": [
       "(300336, 34)"
      ]
     },
     "execution_count": 51,
     "metadata": {},
     "output_type": "execute_result"
    }
   ],
   "source": [
    "final_df.shape"
   ]
  },
  {
   "cell_type": "code",
   "execution_count": null,
   "metadata": {
    "scrolled": true
   },
   "outputs": [],
   "source": [
    "df1.columns"
   ]
  },
  {
   "cell_type": "code",
   "execution_count": 52,
   "metadata": {},
   "outputs": [],
   "source": [
    "final_df1 = df1.drop(['createDate','DD','PD','TOD','TOPD','TOPD_L',\n",
    "                   'ID', 'flightNumber', 'craftTypeCode', 'depAirport','arrAirport',\n",
    "                    'departureDate', 'arrivalDate','rate','priceClass',\n",
    "                   'cabinClass','dateDifference','Month','DOW','DOPD','MOPD','TODD'\n",
    "                   ],axis =1)"
   ]
  },
  {
   "cell_type": "code",
   "execution_count": 53,
   "metadata": {},
   "outputs": [
    {
     "data": {
      "text/plain": [
       "(268524, 39)"
      ]
     },
     "execution_count": 53,
     "metadata": {},
     "output_type": "execute_result"
    }
   ],
   "source": [
    "final_df1.shape"
   ]
  },
  {
   "cell_type": "code",
   "execution_count": 56,
   "metadata": {},
   "outputs": [
    {
     "data": {
      "text/plain": [
       "Index(['traAirport', 'price', 'TOPDL_1', 'MOPD_02', 'MOPD_03', 'MOPD_04',\n",
       "       'MOPD_05', 'MOPD_06', 'MOPD_07', 'dateDifference_0', 'dateDifference_1',\n",
       "       'dateDifference_2', 'dateDifference_3', 'dateDifference_4',\n",
       "       'dateDifference_5', 'dateDifference_6', 'dateDifference_7',\n",
       "       'dateDifference_13', 'dateDifference_14', 'dateDifference_15',\n",
       "       'dateDifference_28', 'dateDifference_29', 'dateDifference_30',\n",
       "       'cabinClass_F', 'cabinClass_Y', 'Month_02', 'Month_03', 'Month_04',\n",
       "       'Month_05', 'Month_06', 'Month_07', 'Month_08', 'DOW_Monday',\n",
       "       'DOW_Saturday', 'DOW_Sunday', 'DOW_Thursday', 'DOW_Tuesday',\n",
       "       'DOW_Wednesday', 'TODD_M', 'TODD_N'],\n",
       "      dtype='object')"
      ]
     },
     "execution_count": 56,
     "metadata": {},
     "output_type": "execute_result"
    }
   ],
   "source": [
    "final_df1.columns"
   ]
  },
  {
   "cell_type": "code",
   "execution_count": null,
   "metadata": {},
   "outputs": [],
   "source": [
    "## dropping columns from the original DF\n",
    "# df.drop(['craftTypeCode', 'departureDate', 'arrivalDate'], axis =1, inplace = True)"
   ]
  },
  {
   "cell_type": "code",
   "execution_count": null,
   "metadata": {},
   "outputs": [],
   "source": [
    "# df1.drop(['craftTypeCode', 'departureDate', 'arrivalDate'], axis =1, inplace = True)"
   ]
  },
  {
   "cell_type": "markdown",
   "metadata": {},
   "source": [
    "## Models\n"
   ]
  },
  {
   "cell_type": "markdown",
   "metadata": {},
   "source": [
    "#### Data_set 1"
   ]
  },
  {
   "cell_type": "code",
   "execution_count": 54,
   "metadata": {},
   "outputs": [
    {
     "data": {
      "text/html": [
       "<table class=\"simpletable\">\n",
       "<caption>OLS Regression Results</caption>\n",
       "<tr>\n",
       "  <th>Dep. Variable:</th>          <td>price</td>      <th>  R-squared:         </th>  <td>   0.710</td>  \n",
       "</tr>\n",
       "<tr>\n",
       "  <th>Model:</th>                   <td>OLS</td>       <th>  Adj. R-squared:    </th>  <td>   0.710</td>  \n",
       "</tr>\n",
       "<tr>\n",
       "  <th>Method:</th>             <td>Least Squares</td>  <th>  F-statistic:       </th>  <td>2.225e+04</td> \n",
       "</tr>\n",
       "<tr>\n",
       "  <th>Date:</th>             <td>Thu, 27 Feb 2020</td> <th>  Prob (F-statistic):</th>   <td>  0.00</td>   \n",
       "</tr>\n",
       "<tr>\n",
       "  <th>Time:</th>                 <td>10:17:30</td>     <th>  Log-Likelihood:    </th> <td>-1.8935e+06</td>\n",
       "</tr>\n",
       "<tr>\n",
       "  <th>No. Observations:</th>      <td>300336</td>      <th>  AIC:               </th>  <td>3.787e+06</td> \n",
       "</tr>\n",
       "<tr>\n",
       "  <th>Df Residuals:</th>          <td>300302</td>      <th>  BIC:               </th>  <td>3.787e+06</td> \n",
       "</tr>\n",
       "<tr>\n",
       "  <th>Df Model:</th>              <td>    33</td>      <th>                     </th>      <td> </td>     \n",
       "</tr>\n",
       "<tr>\n",
       "  <th>Covariance Type:</th>      <td>nonrobust</td>    <th>                     </th>      <td> </td>     \n",
       "</tr>\n",
       "</table>\n",
       "<table class=\"simpletable\">\n",
       "<tr>\n",
       "          <td></td>             <th>coef</th>     <th>std err</th>      <th>t</th>      <th>P>|t|</th>  <th>[0.025</th>    <th>0.975]</th>  \n",
       "</tr>\n",
       "<tr>\n",
       "  <th>Intercept</th>         <td>  608.8000</td> <td>    1.180</td> <td>  515.748</td> <td> 0.000</td> <td>  606.486</td> <td>  611.114</td>\n",
       "</tr>\n",
       "<tr>\n",
       "  <th>traAirport</th>        <td>  -14.6900</td> <td>    1.772</td> <td>   -8.291</td> <td> 0.000</td> <td>  -18.163</td> <td>  -11.217</td>\n",
       "</tr>\n",
       "<tr>\n",
       "  <th>TOPDL_1</th>           <td>   -2.7776</td> <td>    0.862</td> <td>   -3.221</td> <td> 0.001</td> <td>   -4.468</td> <td>   -1.087</td>\n",
       "</tr>\n",
       "<tr>\n",
       "  <th>MOPD_02</th>           <td>   16.9108</td> <td>    1.627</td> <td>   10.394</td> <td> 0.000</td> <td>   13.722</td> <td>   20.100</td>\n",
       "</tr>\n",
       "<tr>\n",
       "  <th>MOPD_03</th>           <td>   21.2718</td> <td>    2.246</td> <td>    9.469</td> <td> 0.000</td> <td>   16.869</td> <td>   25.675</td>\n",
       "</tr>\n",
       "<tr>\n",
       "  <th>MOPD_04</th>           <td>   49.7586</td> <td>    3.165</td> <td>   15.724</td> <td> 0.000</td> <td>   43.556</td> <td>   55.961</td>\n",
       "</tr>\n",
       "<tr>\n",
       "  <th>MOPD_05</th>           <td>   61.0319</td> <td>    3.989</td> <td>   15.299</td> <td> 0.000</td> <td>   53.213</td> <td>   68.851</td>\n",
       "</tr>\n",
       "<tr>\n",
       "  <th>MOPD_06</th>           <td>   66.4783</td> <td>    4.739</td> <td>   14.029</td> <td> 0.000</td> <td>   57.191</td> <td>   75.766</td>\n",
       "</tr>\n",
       "<tr>\n",
       "  <th>MOPD_07</th>           <td>   64.9970</td> <td>    5.255</td> <td>   12.368</td> <td> 0.000</td> <td>   54.697</td> <td>   75.298</td>\n",
       "</tr>\n",
       "<tr>\n",
       "  <th>cabinClass_F</th>      <td>  106.2774</td> <td>    0.903</td> <td>  117.676</td> <td> 0.000</td> <td>  104.507</td> <td>  108.047</td>\n",
       "</tr>\n",
       "<tr>\n",
       "  <th>cabinClass_Y</th>      <td> -389.6780</td> <td>    0.573</td> <td> -679.847</td> <td> 0.000</td> <td> -390.801</td> <td> -388.555</td>\n",
       "</tr>\n",
       "<tr>\n",
       "  <th>Month_02</th>          <td>  -35.3520</td> <td>    1.617</td> <td>  -21.862</td> <td> 0.000</td> <td>  -38.521</td> <td>  -32.183</td>\n",
       "</tr>\n",
       "<tr>\n",
       "  <th>Month_03</th>          <td>  -23.4565</td> <td>    2.209</td> <td>  -10.617</td> <td> 0.000</td> <td>  -27.787</td> <td>  -19.126</td>\n",
       "</tr>\n",
       "<tr>\n",
       "  <th>Month_04</th>          <td>  -21.6442</td> <td>    3.000</td> <td>   -7.215</td> <td> 0.000</td> <td>  -27.524</td> <td>  -15.764</td>\n",
       "</tr>\n",
       "<tr>\n",
       "  <th>Month_05</th>          <td>  -50.5442</td> <td>    3.930</td> <td>  -12.860</td> <td> 0.000</td> <td>  -58.248</td> <td>  -42.841</td>\n",
       "</tr>\n",
       "<tr>\n",
       "  <th>Month_06</th>          <td>  -68.2765</td> <td>    4.731</td> <td>  -14.432</td> <td> 0.000</td> <td>  -77.549</td> <td>  -59.004</td>\n",
       "</tr>\n",
       "<tr>\n",
       "  <th>Month_07</th>          <td>  -67.3494</td> <td>    5.245</td> <td>  -12.841</td> <td> 0.000</td> <td>  -77.629</td> <td>  -57.070</td>\n",
       "</tr>\n",
       "<tr>\n",
       "  <th>Month_08</th>          <td>  -70.8674</td> <td>    6.407</td> <td>  -11.062</td> <td> 0.000</td> <td>  -83.424</td> <td>  -58.311</td>\n",
       "</tr>\n",
       "<tr>\n",
       "  <th>DOW_Monday</th>        <td>  -40.8351</td> <td>    0.920</td> <td>  -44.379</td> <td> 0.000</td> <td>  -42.639</td> <td>  -39.032</td>\n",
       "</tr>\n",
       "<tr>\n",
       "  <th>DOW_Saturday</th>      <td>  -62.7757</td> <td>    0.908</td> <td>  -69.146</td> <td> 0.000</td> <td>  -64.555</td> <td>  -60.996</td>\n",
       "</tr>\n",
       "<tr>\n",
       "  <th>DOW_Sunday</th>        <td>  -35.6666</td> <td>    0.915</td> <td>  -38.977</td> <td> 0.000</td> <td>  -37.460</td> <td>  -33.873</td>\n",
       "</tr>\n",
       "<tr>\n",
       "  <th>DOW_Thursday</th>      <td>   -9.6965</td> <td>    0.920</td> <td>  -10.545</td> <td> 0.000</td> <td>  -11.499</td> <td>   -7.894</td>\n",
       "</tr>\n",
       "<tr>\n",
       "  <th>DOW_Tuesday</th>       <td>  -21.3229</td> <td>    0.925</td> <td>  -23.059</td> <td> 0.000</td> <td>  -23.135</td> <td>  -19.510</td>\n",
       "</tr>\n",
       "<tr>\n",
       "  <th>DOW_Wednesday</th>     <td>  -10.4180</td> <td>    0.920</td> <td>  -11.328</td> <td> 0.000</td> <td>  -12.221</td> <td>   -8.615</td>\n",
       "</tr>\n",
       "<tr>\n",
       "  <th>TODD_M</th>            <td>  -36.1666</td> <td>    0.567</td> <td>  -63.824</td> <td> 0.000</td> <td>  -37.277</td> <td>  -35.056</td>\n",
       "</tr>\n",
       "<tr>\n",
       "  <th>TODD_N</th>            <td>  -22.1840</td> <td>    0.637</td> <td>  -34.799</td> <td> 0.000</td> <td>  -23.433</td> <td>  -20.934</td>\n",
       "</tr>\n",
       "<tr>\n",
       "  <th>dateDifference_2</th>  <td>   -2.7387</td> <td>    0.923</td> <td>   -2.967</td> <td> 0.003</td> <td>   -4.548</td> <td>   -0.930</td>\n",
       "</tr>\n",
       "<tr>\n",
       "  <th>dateDifference_3</th>  <td>  -11.7016</td> <td>    0.911</td> <td>  -12.847</td> <td> 0.000</td> <td>  -13.487</td> <td>   -9.916</td>\n",
       "</tr>\n",
       "<tr>\n",
       "  <th>dateDifference_4</th>  <td>  -12.5255</td> <td>    1.198</td> <td>  -10.457</td> <td> 0.000</td> <td>  -14.873</td> <td>  -10.178</td>\n",
       "</tr>\n",
       "<tr>\n",
       "  <th>dateDifference_5</th>  <td>  -12.9050</td> <td>    0.918</td> <td>  -14.059</td> <td> 0.000</td> <td>  -14.704</td> <td>  -11.106</td>\n",
       "</tr>\n",
       "<tr>\n",
       "  <th>dateDifference_6</th>  <td>  -17.5180</td> <td>    1.214</td> <td>  -14.436</td> <td> 0.000</td> <td>  -19.896</td> <td>  -15.140</td>\n",
       "</tr>\n",
       "<tr>\n",
       "  <th>dateDifference_7</th>  <td>  -18.8248</td> <td>    0.924</td> <td>  -20.381</td> <td> 0.000</td> <td>  -20.635</td> <td>  -17.014</td>\n",
       "</tr>\n",
       "<tr>\n",
       "  <th>dateDifference_15</th> <td>  -14.3243</td> <td>    1.167</td> <td>  -12.271</td> <td> 0.000</td> <td>  -16.612</td> <td>  -12.036</td>\n",
       "</tr>\n",
       "<tr>\n",
       "  <th>dateDifference_30</th> <td>    0.6628</td> <td>    1.562</td> <td>    0.424</td> <td> 0.671</td> <td>   -2.398</td> <td>    3.724</td>\n",
       "</tr>\n",
       "</table>\n",
       "<table class=\"simpletable\">\n",
       "<tr>\n",
       "  <th>Omnibus:</th>       <td>11668.231</td> <th>  Durbin-Watson:     </th> <td>   2.934</td> \n",
       "</tr>\n",
       "<tr>\n",
       "  <th>Prob(Omnibus):</th>  <td> 0.000</td>   <th>  Jarque-Bera (JB):  </th> <td>16026.300</td>\n",
       "</tr>\n",
       "<tr>\n",
       "  <th>Skew:</th>           <td>-0.401</td>   <th>  Prob(JB):          </th> <td>    0.00</td> \n",
       "</tr>\n",
       "<tr>\n",
       "  <th>Kurtosis:</th>       <td> 3.799</td>   <th>  Cond. No.          </th> <td>    81.7</td> \n",
       "</tr>\n",
       "</table><br/><br/>Warnings:<br/>[1] Standard Errors assume that the covariance matrix of the errors is correctly specified."
      ],
      "text/plain": [
       "<class 'statsmodels.iolib.summary.Summary'>\n",
       "\"\"\"\n",
       "                            OLS Regression Results                            \n",
       "==============================================================================\n",
       "Dep. Variable:                  price   R-squared:                       0.710\n",
       "Model:                            OLS   Adj. R-squared:                  0.710\n",
       "Method:                 Least Squares   F-statistic:                 2.225e+04\n",
       "Date:                Thu, 27 Feb 2020   Prob (F-statistic):               0.00\n",
       "Time:                        10:17:30   Log-Likelihood:            -1.8935e+06\n",
       "No. Observations:              300336   AIC:                         3.787e+06\n",
       "Df Residuals:                  300302   BIC:                         3.787e+06\n",
       "Df Model:                          33                                         \n",
       "Covariance Type:            nonrobust                                         \n",
       "=====================================================================================\n",
       "                        coef    std err          t      P>|t|      [0.025      0.975]\n",
       "-------------------------------------------------------------------------------------\n",
       "Intercept           608.8000      1.180    515.748      0.000     606.486     611.114\n",
       "traAirport          -14.6900      1.772     -8.291      0.000     -18.163     -11.217\n",
       "TOPDL_1              -2.7776      0.862     -3.221      0.001      -4.468      -1.087\n",
       "MOPD_02              16.9108      1.627     10.394      0.000      13.722      20.100\n",
       "MOPD_03              21.2718      2.246      9.469      0.000      16.869      25.675\n",
       "MOPD_04              49.7586      3.165     15.724      0.000      43.556      55.961\n",
       "MOPD_05              61.0319      3.989     15.299      0.000      53.213      68.851\n",
       "MOPD_06              66.4783      4.739     14.029      0.000      57.191      75.766\n",
       "MOPD_07              64.9970      5.255     12.368      0.000      54.697      75.298\n",
       "cabinClass_F        106.2774      0.903    117.676      0.000     104.507     108.047\n",
       "cabinClass_Y       -389.6780      0.573   -679.847      0.000    -390.801    -388.555\n",
       "Month_02            -35.3520      1.617    -21.862      0.000     -38.521     -32.183\n",
       "Month_03            -23.4565      2.209    -10.617      0.000     -27.787     -19.126\n",
       "Month_04            -21.6442      3.000     -7.215      0.000     -27.524     -15.764\n",
       "Month_05            -50.5442      3.930    -12.860      0.000     -58.248     -42.841\n",
       "Month_06            -68.2765      4.731    -14.432      0.000     -77.549     -59.004\n",
       "Month_07            -67.3494      5.245    -12.841      0.000     -77.629     -57.070\n",
       "Month_08            -70.8674      6.407    -11.062      0.000     -83.424     -58.311\n",
       "DOW_Monday          -40.8351      0.920    -44.379      0.000     -42.639     -39.032\n",
       "DOW_Saturday        -62.7757      0.908    -69.146      0.000     -64.555     -60.996\n",
       "DOW_Sunday          -35.6666      0.915    -38.977      0.000     -37.460     -33.873\n",
       "DOW_Thursday         -9.6965      0.920    -10.545      0.000     -11.499      -7.894\n",
       "DOW_Tuesday         -21.3229      0.925    -23.059      0.000     -23.135     -19.510\n",
       "DOW_Wednesday       -10.4180      0.920    -11.328      0.000     -12.221      -8.615\n",
       "TODD_M              -36.1666      0.567    -63.824      0.000     -37.277     -35.056\n",
       "TODD_N              -22.1840      0.637    -34.799      0.000     -23.433     -20.934\n",
       "dateDifference_2     -2.7387      0.923     -2.967      0.003      -4.548      -0.930\n",
       "dateDifference_3    -11.7016      0.911    -12.847      0.000     -13.487      -9.916\n",
       "dateDifference_4    -12.5255      1.198    -10.457      0.000     -14.873     -10.178\n",
       "dateDifference_5    -12.9050      0.918    -14.059      0.000     -14.704     -11.106\n",
       "dateDifference_6    -17.5180      1.214    -14.436      0.000     -19.896     -15.140\n",
       "dateDifference_7    -18.8248      0.924    -20.381      0.000     -20.635     -17.014\n",
       "dateDifference_15   -14.3243      1.167    -12.271      0.000     -16.612     -12.036\n",
       "dateDifference_30     0.6628      1.562      0.424      0.671      -2.398       3.724\n",
       "==============================================================================\n",
       "Omnibus:                    11668.231   Durbin-Watson:                   2.934\n",
       "Prob(Omnibus):                  0.000   Jarque-Bera (JB):            16026.300\n",
       "Skew:                          -0.401   Prob(JB):                         0.00\n",
       "Kurtosis:                       3.799   Cond. No.                         81.7\n",
       "==============================================================================\n",
       "\n",
       "Warnings:\n",
       "[1] Standard Errors assume that the covariance matrix of the errors is correctly specified.\n",
       "\"\"\""
      ]
     },
     "execution_count": 54,
     "metadata": {},
     "output_type": "execute_result"
    }
   ],
   "source": [
    "outcome = 'price'\n",
    "predictors = final_df.drop('price', axis =1)\n",
    "pred_sum = '+'.join(predictors.columns)\n",
    "formula = outcome +'~'+ pred_sum\n",
    "model = ols(formula = formula, data = final_df).fit()\n",
    "model.summary()"
   ]
  },
  {
   "cell_type": "markdown",
   "metadata": {},
   "source": [
    "#### TRAIN_TEST_SPLIT"
   ]
  },
  {
   "cell_type": "code",
   "execution_count": 55,
   "metadata": {},
   "outputs": [],
   "source": [
    "target = final_df.price"
   ]
  },
  {
   "cell_type": "code",
   "execution_count": 56,
   "metadata": {},
   "outputs": [
    {
     "data": {
      "text/plain": [
       "0         260.4\n",
       "1         229.6\n",
       "2         750.4\n",
       "3         228.9\n",
       "4         229.6\n",
       "          ...  \n",
       "300331    116.2\n",
       "300332    123.2\n",
       "300333    128.8\n",
       "300334    113.4\n",
       "300335    208.6\n",
       "Name: price, Length: 300336, dtype: float64"
      ]
     },
     "execution_count": 56,
     "metadata": {},
     "output_type": "execute_result"
    }
   ],
   "source": [
    "target"
   ]
  },
  {
   "cell_type": "code",
   "execution_count": 57,
   "metadata": {},
   "outputs": [],
   "source": [
    "features = ['traAirport', 'TOPDL_1', 'MOPD_02', 'MOPD_03', 'MOPD_04',\n",
    "       'MOPD_05', 'MOPD_06', 'MOPD_07', 'cabinClass_F', 'cabinClass_Y',\n",
    "       'Month_02', 'Month_03', 'Month_04', 'Month_05', 'Month_06', 'Month_07',\n",
    "       'Month_08', 'DOW_Monday', 'DOW_Saturday', 'DOW_Sunday', 'DOW_Thursday',\n",
    "       'DOW_Tuesday', 'DOW_Wednesday', 'TODD_M', 'TODD_N', 'dateDifference_2',\n",
    "       'dateDifference_3', 'dateDifference_4', 'dateDifference_5',\n",
    "       'dateDifference_6', 'dateDifference_7', 'dateDifference_15',\n",
    "       'dateDifference_30']"
   ]
  },
  {
   "cell_type": "code",
   "execution_count": 58,
   "metadata": {},
   "outputs": [
    {
     "name": "stdout",
     "output_type": "stream",
     "text": [
      "Training set - Features:  (240268, 33) Target:  (240268,)\n",
      "Training set - Features:  (60068, 33) Target:  (60068,)\n"
     ]
    }
   ],
   "source": [
    "#improt train_test_split from sklearn package\n",
    "\n",
    "\n",
    "#call train_test_split on the data and capture the results\n",
    "X_train, X_test, y_train, y_test = train_test_split(final_df[features], target, random_state=34,test_size=0.2)\n",
    "\n",
    "#check the shape of the results\n",
    "print(\"Training set - Features: \", X_train.shape, \"Target: \", y_train.shape)\n",
    "print(\"Training set - Features: \", X_test.shape, \"Target: \",y_test.shape)"
   ]
  },
  {
   "cell_type": "code",
   "execution_count": 59,
   "metadata": {},
   "outputs": [
    {
     "name": "stdout",
     "output_type": "stream",
     "text": [
      "608.2779378791595\n",
      "[ -13.058549     -3.10848652   16.30534965   22.15241998   53.37727014\n",
      "   64.38364655   71.3454336    70.2670315   106.86969089 -389.2306554\n",
      "  -34.59108079  -23.64849362  -25.11965069  -53.76227867  -72.85630806\n",
      "  -72.23385481  -75.93101363  -41.18529907  -63.05566858  -35.9872373\n",
      "   -9.67179949  -21.35122223  -10.63148596  -35.9573067   -22.04680468\n",
      "   -2.95483887  -11.4586021   -12.43447213  -12.89251271  -17.15565438\n",
      "  -19.22780771  -14.72899178    1.91534206]\n"
     ]
    }
   ],
   "source": [
    "# fit a model\n",
    "\n",
    "\n",
    "#instantiate a linear regression object\n",
    "lm = linear_model.LinearRegression()\n",
    "\n",
    "#fit the linear regression to the data\n",
    "lm = lm.fit(X_train, y_train)\n",
    "\n",
    "\n",
    "print(lm.intercept_)\n",
    "print(lm.coef_)"
   ]
  },
  {
   "cell_type": "code",
   "execution_count": 60,
   "metadata": {},
   "outputs": [
    {
     "name": "stdout",
     "output_type": "stream",
     "text": [
      "R^2 Score: 0.7093187749165212\n"
     ]
    }
   ],
   "source": [
    "print (\"R^2 Score:\", lm.score(X_train, y_train))\n"
   ]
  },
  {
   "cell_type": "code",
   "execution_count": 61,
   "metadata": {},
   "outputs": [],
   "source": [
    "y_train_pred = lm.predict(X_train)"
   ]
  },
  {
   "cell_type": "code",
   "execution_count": 62,
   "metadata": {},
   "outputs": [
    {
     "name": "stdout",
     "output_type": "stream",
     "text": [
      "Mean Absolute Error: 93.29700885244966\n",
      "Mean Squared Error: 17538.284145144433\n",
      "Root Mean Squared Error: 132.43218696806466\n"
     ]
    }
   ],
   "source": [
    "#import the metrics module from sklearn\n",
    "from sklearn import metrics\n",
    "\n",
    "train_mae = metrics.mean_absolute_error(y_train, y_train_pred)\n",
    "train_mse = metrics.mean_squared_error(y_train, y_train_pred)\n",
    "train_rmse = np.sqrt(metrics.mean_squared_error(y_train, y_train_pred))\n",
    "\n",
    "\n",
    "print('Mean Absolute Error:', train_mae )\n",
    "print('Mean Squared Error:',  train_mse)\n",
    "print('Root Mean Squared Error:' , train_rmse)"
   ]
  },
  {
   "cell_type": "code",
   "execution_count": 63,
   "metadata": {},
   "outputs": [
    {
     "name": "stdout",
     "output_type": "stream",
     "text": [
      "245.70047935921252\n",
      "Mean Absolute Error: 0.37971846492024963\n",
      "Root Mean Squared Error: 0.5389984883767754\n"
     ]
    }
   ],
   "source": [
    "price_std = target.std()\n",
    "print(price_std)\n",
    "print('Mean Absolute Error:', train_mae/price_std )\n",
    "print('Root Mean Squared Error:' , train_rmse/price_std)"
   ]
  },
  {
   "cell_type": "code",
   "execution_count": 64,
   "metadata": {},
   "outputs": [
    {
     "data": {
      "text/plain": [
       "309.3558575062597"
      ]
     },
     "execution_count": 64,
     "metadata": {},
     "output_type": "execute_result"
    }
   ],
   "source": [
    "final_df.price.mean()"
   ]
  },
  {
   "cell_type": "code",
   "execution_count": 65,
   "metadata": {},
   "outputs": [],
   "source": [
    "y_pred = lm.predict(X_test)"
   ]
  },
  {
   "cell_type": "code",
   "execution_count": 66,
   "metadata": {},
   "outputs": [
    {
     "name": "stdout",
     "output_type": "stream",
     "text": [
      "Score: 0.7111413717947371\n"
     ]
    }
   ],
   "source": [
    "print (\"Score:\", lm.score(X_test, y_test))\n"
   ]
  },
  {
   "cell_type": "code",
   "execution_count": 67,
   "metadata": {},
   "outputs": [
    {
     "name": "stdout",
     "output_type": "stream",
     "text": [
      "Mean Absolute Error:93.2528529446576\n",
      "Mean Squared Error:17476.574597536586\n",
      "Root Mean Squared Error:132.19899620472384\n"
     ]
    }
   ],
   "source": [
    "test_mae = metrics.mean_absolute_error(y_test, y_pred)\n",
    "test_rmse = np.sqrt(metrics.mean_squared_error(y_test, y_pred))\n",
    "\n",
    "\n",
    "print('Mean Absolute Error:' + str(metrics.mean_absolute_error(y_test, y_pred)))\n",
    "print('Mean Squared Error:' + str(metrics.mean_squared_error(y_test, y_pred)))\n",
    "print('Root Mean Squared Error:' + str(np.sqrt(metrics.mean_squared_error(y_test, y_pred))))"
   ]
  },
  {
   "cell_type": "code",
   "execution_count": 68,
   "metadata": {},
   "outputs": [],
   "source": [
    "y_h_linear_train_01 = np.reshape(lm.predict(X_train),(240268,1))\n",
    "y_h_linear_test_01 = np.reshape(lm.predict(X_test),(60068,1))"
   ]
  },
  {
   "cell_type": "code",
   "execution_count": 69,
   "metadata": {},
   "outputs": [
    {
     "name": "stdout",
     "output_type": "stream",
     "text": [
      "Mean Absolute Error  Z: 0.3795387505464429\n",
      "Root Mean Squared Error Z: 0.538049402872551\n"
     ]
    }
   ],
   "source": [
    "print('Mean Absolute Error  Z:', test_mae/price_std )\n",
    "print('Root Mean Squared Error Z:' , test_rmse/price_std)"
   ]
  },
  {
   "cell_type": "code",
   "execution_count": 70,
   "metadata": {},
   "outputs": [
    {
     "name": "stdout",
     "output_type": "stream",
     "text": [
      "Training:  132 vs. Testing:  132\n"
     ]
    }
   ],
   "source": [
    "print('Training: ', int(train_rmse), \"vs. Testing: \", int(test_rmse))"
   ]
  },
  {
   "cell_type": "code",
   "execution_count": 71,
   "metadata": {},
   "outputs": [],
   "source": [
    "# Ridge and lasso"
   ]
  },
  {
   "cell_type": "code",
   "execution_count": 72,
   "metadata": {},
   "outputs": [
    {
     "data": {
      "text/plain": [
       "Lasso(alpha=0.1, copy_X=True, fit_intercept=True, max_iter=1000,\n",
       "      normalize=False, positive=False, precompute=False, random_state=None,\n",
       "      selection='cyclic', tol=0.0001, warm_start=False)"
      ]
     },
     "execution_count": 72,
     "metadata": {},
     "output_type": "execute_result"
    }
   ],
   "source": [
    "\n",
    "ridge_01 = Ridge(alpha=0.1)\n",
    "ridge_01.fit(X_train, y_train)\n",
    "\n",
    "lasso_01 = Lasso(alpha=0.1)\n",
    "lasso_01.fit(X_train, y_train)"
   ]
  },
  {
   "cell_type": "code",
   "execution_count": 73,
   "metadata": {},
   "outputs": [
    {
     "name": "stdout",
     "output_type": "stream",
     "text": [
      "Unpenalized Linear Regression Coefficients are:[ -13.058549     -3.10848652   16.30534965   22.15241998   53.37727014\n",
      "   64.38364655   71.3454336    70.2670315   106.86969089 -389.2306554\n",
      "  -34.59108079  -23.64849362  -25.11965069  -53.76227867  -72.85630806\n",
      "  -72.23385481  -75.93101363  -41.18529907  -63.05566858  -35.9872373\n",
      "   -9.67179949  -21.35122223  -10.63148596  -35.9573067   -22.04680468\n",
      "   -2.95483887  -11.4586021   -12.43447213  -12.89251271  -17.15565438\n",
      "  -19.22780771  -14.72899178    1.91534206]\n",
      "687.6638904957565\n",
      "Unpenalized Linear Regression Intercept:608.2779378791595\n"
     ]
    }
   ],
   "source": [
    "print(\"Unpenalized Linear Regression Coefficients are:{}\".format(lm.coef_))\n",
    "print(abs(lm.coef_.sum()))\n",
    "print(\"Unpenalized Linear Regression Intercept:{}\".format(lm.intercept_))"
   ]
  },
  {
   "cell_type": "code",
   "execution_count": 74,
   "metadata": {},
   "outputs": [
    {
     "name": "stdout",
     "output_type": "stream",
     "text": [
      "Lasso Regression Coefficients are:[-7.17046370e+00 -2.12179619e+00  0.00000000e+00 -9.27466938e-01\n",
      "  1.17447359e+01  5.62397141e+00  1.26013402e+00 -0.00000000e+00\n",
      "  1.05713254e+02 -3.89335193e+02 -1.90631364e+01 -7.30249307e-03\n",
      "  1.14636463e+01  1.49831765e+00 -2.79582526e+00 -0.00000000e+00\n",
      "  0.00000000e+00 -3.54798029e+01 -5.79735265e+01 -3.04684186e+01\n",
      " -3.41989798e+00 -1.53083273e+01 -4.47137178e+00 -3.50740828e+01\n",
      " -2.09433721e+01  6.63779317e-01 -6.61779286e+00 -7.31726405e+00\n",
      " -8.65718245e+00 -1.28327440e+01 -1.56119054e+01 -1.20218836e+01\n",
      " -1.21757691e+00]\n",
      "550.8684947788237\n",
      "Lasso Linear Regression Intercept:598.2690829372307\n"
     ]
    }
   ],
   "source": [
    "print(\"Lasso Regression Coefficients are:{}\".format(lasso_01.coef_))\n",
    "print(abs(lasso_01.coef_.sum()))\n",
    "print(\"Lasso Linear Regression Intercept:{}\".format(lasso_01.intercept_))"
   ]
  },
  {
   "cell_type": "code",
   "execution_count": 75,
   "metadata": {},
   "outputs": [
    {
     "name": "stdout",
     "output_type": "stream",
     "text": [
      "Ridge Regression Coefficients are:[ -13.05795187   -3.10985788   16.29262719   22.12968528   53.32834023\n",
      "   64.31454829   71.26066987   70.17370906  106.86979315 -389.22995965\n",
      "  -34.57910976  -23.62614064  -25.07462298  -53.69468477  -72.77150395\n",
      "  -72.14005399  -75.82199784  -41.1841348   -63.05500282  -35.985849\n",
      "   -9.66999427  -21.34976076  -10.63014119  -35.95719503  -22.04670635\n",
      "   -2.95477515  -11.45882247  -12.43518055  -12.89327614  -17.1570856\n",
      "  -19.22940012  -14.73403881    1.89986452]\n",
      "687.5780087708147\n",
      "Ridge Linear Regression Intercept:608.2762266213583\n"
     ]
    }
   ],
   "source": [
    "print(\"Ridge Regression Coefficients are:{}\".format(ridge_01.coef_))\n",
    "print(abs(ridge_01.coef_.sum()))\n",
    "print(\"Ridge Linear Regression Intercept:{}\".format(ridge_01.intercept_))"
   ]
  },
  {
   "cell_type": "code",
   "execution_count": 76,
   "metadata": {},
   "outputs": [
    {
     "data": {
      "text/plain": [
       "(300336, 34)"
      ]
     },
     "execution_count": 76,
     "metadata": {},
     "output_type": "execute_result"
    }
   ],
   "source": [
    "final_df.shape"
   ]
  },
  {
   "cell_type": "code",
   "execution_count": 77,
   "metadata": {},
   "outputs": [
    {
     "data": {
      "text/plain": [
       "(240268, 33)"
      ]
     },
     "execution_count": 77,
     "metadata": {},
     "output_type": "execute_result"
    }
   ],
   "source": [
    "X_train.shape"
   ]
  },
  {
   "cell_type": "code",
   "execution_count": 78,
   "metadata": {},
   "outputs": [],
   "source": [
    "y_h_ridge_train_01 = ridge_01.predict(X_train)\n",
    "y_h_ridge_test_01 = ridge_01.predict(X_test)\n",
    "\n",
    "y_h_lasso_train_01 = np.reshape(lasso_01.predict(X_train),(240268,1))\n",
    "y_h_lasso_test_01 = np.reshape(lasso_01.predict(X_test),(60068,1))\n",
    "\n",
    "y_h_lin_train = lm.predict(X_train)\n",
    "y_h_lin_test = lm.predict(X_test)"
   ]
  },
  {
   "cell_type": "code",
   "execution_count": 79,
   "metadata": {},
   "outputs": [
    {
     "data": {
      "text/plain": [
       "array([120.37185766, 509.60181731, 173.37638725, ..., 170.28666507,\n",
       "       520.73062474, 125.57014346])"
      ]
     },
     "execution_count": 79,
     "metadata": {},
     "output_type": "execute_result"
    }
   ],
   "source": [
    "y_h_ridge_test_01"
   ]
  },
  {
   "cell_type": "code",
   "execution_count": 80,
   "metadata": {},
   "outputs": [
    {
     "name": "stdout",
     "output_type": "stream",
     "text": [
      "(240268,)\n",
      "(60068,)\n"
     ]
    }
   ],
   "source": [
    "print(y_h_ridge_train_01.shape)\n",
    "print(y_h_ridge_test_01.shape)"
   ]
  },
  {
   "cell_type": "code",
   "execution_count": 81,
   "metadata": {},
   "outputs": [
    {
     "name": "stdout",
     "output_type": "stream",
     "text": [
      "132.19895917132038\n"
     ]
    }
   ],
   "source": [
    "rmse_ridge = np.sqrt(metrics.mean_squared_error(y_test,y_h_ridge_test_01))\n",
    "print(rmse_ridge)"
   ]
  },
  {
   "cell_type": "code",
   "execution_count": 82,
   "metadata": {},
   "outputs": [
    {
     "name": "stdout",
     "output_type": "stream",
     "text": [
      "132.2662746618027\n"
     ]
    }
   ],
   "source": [
    "rmse_lasso = np.sqrt(metrics.mean_squared_error(y_test,y_h_lasso_test_01))\n",
    "print(rmse_lasso)"
   ]
  },
  {
   "cell_type": "code",
   "execution_count": 83,
   "metadata": {},
   "outputs": [
    {
     "name": "stdout",
     "output_type": "stream",
     "text": [
      "Root Mean Squared Error:132.19899620472384\n"
     ]
    }
   ],
   "source": [
    "print('Root Mean Squared Error:' + str(np.sqrt(metrics.mean_squared_error(y_test, y_pred))))"
   ]
  },
  {
   "cell_type": "markdown",
   "metadata": {},
   "source": [
    "#### Data_set_2"
   ]
  },
  {
   "cell_type": "code",
   "execution_count": 84,
   "metadata": {},
   "outputs": [
    {
     "data": {
      "text/html": [
       "<table class=\"simpletable\">\n",
       "<caption>OLS Regression Results</caption>\n",
       "<tr>\n",
       "  <th>Dep. Variable:</th>          <td>price</td>      <th>  R-squared:         </th>  <td>   0.702</td>  \n",
       "</tr>\n",
       "<tr>\n",
       "  <th>Model:</th>                   <td>OLS</td>       <th>  Adj. R-squared:    </th>  <td>   0.702</td>  \n",
       "</tr>\n",
       "<tr>\n",
       "  <th>Method:</th>             <td>Least Squares</td>  <th>  F-statistic:       </th>  <td>1.663e+04</td> \n",
       "</tr>\n",
       "<tr>\n",
       "  <th>Date:</th>             <td>Thu, 27 Feb 2020</td> <th>  Prob (F-statistic):</th>   <td>  0.00</td>   \n",
       "</tr>\n",
       "<tr>\n",
       "  <th>Time:</th>                 <td>10:17:37</td>     <th>  Log-Likelihood:    </th> <td>-1.6940e+06</td>\n",
       "</tr>\n",
       "<tr>\n",
       "  <th>No. Observations:</th>      <td>268524</td>      <th>  AIC:               </th>  <td>3.388e+06</td> \n",
       "</tr>\n",
       "<tr>\n",
       "  <th>Df Residuals:</th>          <td>268485</td>      <th>  BIC:               </th>  <td>3.389e+06</td> \n",
       "</tr>\n",
       "<tr>\n",
       "  <th>Df Model:</th>              <td>    38</td>      <th>                     </th>      <td> </td>     \n",
       "</tr>\n",
       "<tr>\n",
       "  <th>Covariance Type:</th>      <td>nonrobust</td>    <th>                     </th>      <td> </td>     \n",
       "</tr>\n",
       "</table>\n",
       "<table class=\"simpletable\">\n",
       "<tr>\n",
       "          <td></td>             <th>coef</th>     <th>std err</th>      <th>t</th>      <th>P>|t|</th>  <th>[0.025</th>    <th>0.975]</th>  \n",
       "</tr>\n",
       "<tr>\n",
       "  <th>Intercept</th>         <td>  601.7202</td> <td>    2.346</td> <td>  256.436</td> <td> 0.000</td> <td>  597.121</td> <td>  606.319</td>\n",
       "</tr>\n",
       "<tr>\n",
       "  <th>traAirport</th>        <td>  -30.7154</td> <td>    1.891</td> <td>  -16.241</td> <td> 0.000</td> <td>  -34.422</td> <td>  -27.009</td>\n",
       "</tr>\n",
       "<tr>\n",
       "  <th>TOPDL_1</th>           <td>   -2.7012</td> <td>    0.919</td> <td>   -2.939</td> <td> 0.003</td> <td>   -4.502</td> <td>   -0.900</td>\n",
       "</tr>\n",
       "<tr>\n",
       "  <th>MOPD_02</th>           <td>    3.1663</td> <td>    1.626</td> <td>    1.947</td> <td> 0.052</td> <td>   -0.022</td> <td>    6.354</td>\n",
       "</tr>\n",
       "<tr>\n",
       "  <th>MOPD_03</th>           <td>    8.2632</td> <td>    2.251</td> <td>    3.671</td> <td> 0.000</td> <td>    3.852</td> <td>   12.675</td>\n",
       "</tr>\n",
       "<tr>\n",
       "  <th>MOPD_04</th>           <td>   32.1878</td> <td>    3.524</td> <td>    9.133</td> <td> 0.000</td> <td>   25.280</td> <td>   39.096</td>\n",
       "</tr>\n",
       "<tr>\n",
       "  <th>MOPD_05</th>           <td>   31.2295</td> <td>    8.904</td> <td>    3.507</td> <td> 0.000</td> <td>   13.778</td> <td>   48.681</td>\n",
       "</tr>\n",
       "<tr>\n",
       "  <th>MOPD_06</th>           <td>   43.4544</td> <td>    9.375</td> <td>    4.635</td> <td> 0.000</td> <td>   25.080</td> <td>   61.829</td>\n",
       "</tr>\n",
       "<tr>\n",
       "  <th>MOPD_07</th>           <td>   44.1114</td> <td>    9.840</td> <td>    4.483</td> <td> 0.000</td> <td>   24.826</td> <td>   63.397</td>\n",
       "</tr>\n",
       "<tr>\n",
       "  <th>dateDifference_1</th>  <td>   -3.5535</td> <td>    2.171</td> <td>   -1.637</td> <td> 0.102</td> <td>   -7.809</td> <td>    0.702</td>\n",
       "</tr>\n",
       "<tr>\n",
       "  <th>dateDifference_2</th>  <td>   -6.8493</td> <td>    2.173</td> <td>   -3.152</td> <td> 0.002</td> <td>  -11.109</td> <td>   -2.590</td>\n",
       "</tr>\n",
       "<tr>\n",
       "  <th>dateDifference_3</th>  <td>  -14.8201</td> <td>    2.223</td> <td>   -6.667</td> <td> 0.000</td> <td>  -19.177</td> <td>  -10.463</td>\n",
       "</tr>\n",
       "<tr>\n",
       "  <th>dateDifference_4</th>  <td>  -13.4603</td> <td>    2.211</td> <td>   -6.087</td> <td> 0.000</td> <td>  -17.794</td> <td>   -9.126</td>\n",
       "</tr>\n",
       "<tr>\n",
       "  <th>dateDifference_5</th>  <td>  -16.2411</td> <td>    2.218</td> <td>   -7.324</td> <td> 0.000</td> <td>  -20.587</td> <td>  -11.895</td>\n",
       "</tr>\n",
       "<tr>\n",
       "  <th>dateDifference_6</th>  <td>  -22.6726</td> <td>    2.215</td> <td>  -10.237</td> <td> 0.000</td> <td>  -27.014</td> <td>  -18.332</td>\n",
       "</tr>\n",
       "<tr>\n",
       "  <th>dateDifference_7</th>  <td>  -23.1158</td> <td>    2.229</td> <td>  -10.369</td> <td> 0.000</td> <td>  -27.485</td> <td>  -18.747</td>\n",
       "</tr>\n",
       "<tr>\n",
       "  <th>dateDifference_13</th> <td>  -20.6132</td> <td>    7.306</td> <td>   -2.821</td> <td> 0.005</td> <td>  -34.933</td> <td>   -6.294</td>\n",
       "</tr>\n",
       "<tr>\n",
       "  <th>dateDifference_14</th> <td>  -16.9400</td> <td>    2.610</td> <td>   -6.490</td> <td> 0.000</td> <td>  -22.056</td> <td>  -11.824</td>\n",
       "</tr>\n",
       "<tr>\n",
       "  <th>dateDifference_15</th> <td>  -20.7391</td> <td>    2.413</td> <td>   -8.596</td> <td> 0.000</td> <td>  -25.468</td> <td>  -16.010</td>\n",
       "</tr>\n",
       "<tr>\n",
       "  <th>dateDifference_28</th> <td>   -8.9857</td> <td>    7.960</td> <td>   -1.129</td> <td> 0.259</td> <td>  -24.587</td> <td>    6.615</td>\n",
       "</tr>\n",
       "<tr>\n",
       "  <th>dateDifference_29</th> <td>   -9.8087</td> <td>    2.876</td> <td>   -3.411</td> <td> 0.001</td> <td>  -15.445</td> <td>   -4.172</td>\n",
       "</tr>\n",
       "<tr>\n",
       "  <th>dateDifference_30</th> <td>   -5.1422</td> <td>    2.868</td> <td>   -1.793</td> <td> 0.073</td> <td>  -10.764</td> <td>    0.480</td>\n",
       "</tr>\n",
       "<tr>\n",
       "  <th>cabinClass_F</th>      <td>  107.0382</td> <td>    0.953</td> <td>  112.346</td> <td> 0.000</td> <td>  105.171</td> <td>  108.906</td>\n",
       "</tr>\n",
       "<tr>\n",
       "  <th>cabinClass_Y</th>      <td> -385.3173</td> <td>    0.615</td> <td> -626.653</td> <td> 0.000</td> <td> -386.522</td> <td> -384.112</td>\n",
       "</tr>\n",
       "<tr>\n",
       "  <th>Month_02</th>          <td>  -43.5838</td> <td>    1.633</td> <td>  -26.690</td> <td> 0.000</td> <td>  -46.784</td> <td>  -40.383</td>\n",
       "</tr>\n",
       "<tr>\n",
       "  <th>Month_03</th>          <td>  -18.3631</td> <td>    2.224</td> <td>   -8.259</td> <td> 0.000</td> <td>  -22.721</td> <td>  -14.005</td>\n",
       "</tr>\n",
       "<tr>\n",
       "  <th>Month_04</th>          <td>   -7.6753</td> <td>    3.198</td> <td>   -2.400</td> <td> 0.016</td> <td>  -13.944</td> <td>   -1.407</td>\n",
       "</tr>\n",
       "<tr>\n",
       "  <th>Month_05</th>          <td>  -31.3575</td> <td>    8.904</td> <td>   -3.522</td> <td> 0.000</td> <td>  -48.809</td> <td>  -13.906</td>\n",
       "</tr>\n",
       "<tr>\n",
       "  <th>Month_06</th>          <td>  -54.4421</td> <td>    9.354</td> <td>   -5.820</td> <td> 0.000</td> <td>  -72.775</td> <td>  -36.109</td>\n",
       "</tr>\n",
       "<tr>\n",
       "  <th>Month_07</th>          <td>  -54.5596</td> <td>    9.840</td> <td>   -5.545</td> <td> 0.000</td> <td>  -73.845</td> <td>  -35.274</td>\n",
       "</tr>\n",
       "<tr>\n",
       "  <th>Month_08</th>          <td>  -63.6111</td> <td>   10.750</td> <td>   -5.917</td> <td> 0.000</td> <td>  -84.682</td> <td>  -42.541</td>\n",
       "</tr>\n",
       "<tr>\n",
       "  <th>DOW_Monday</th>        <td>  -27.2207</td> <td>    0.982</td> <td>  -27.717</td> <td> 0.000</td> <td>  -29.146</td> <td>  -25.296</td>\n",
       "</tr>\n",
       "<tr>\n",
       "  <th>DOW_Saturday</th>      <td>  -37.6823</td> <td>    0.975</td> <td>  -38.658</td> <td> 0.000</td> <td>  -39.593</td> <td>  -35.772</td>\n",
       "</tr>\n",
       "<tr>\n",
       "  <th>DOW_Sunday</th>        <td>  -21.5001</td> <td>    0.972</td> <td>  -22.124</td> <td> 0.000</td> <td>  -23.405</td> <td>  -19.595</td>\n",
       "</tr>\n",
       "<tr>\n",
       "  <th>DOW_Thursday</th>      <td>   -4.6317</td> <td>    0.981</td> <td>   -4.721</td> <td> 0.000</td> <td>   -6.555</td> <td>   -2.709</td>\n",
       "</tr>\n",
       "<tr>\n",
       "  <th>DOW_Tuesday</th>       <td>  -20.9720</td> <td>    0.991</td> <td>  -21.155</td> <td> 0.000</td> <td>  -22.915</td> <td>  -19.029</td>\n",
       "</tr>\n",
       "<tr>\n",
       "  <th>DOW_Wednesday</th>     <td>   -7.2838</td> <td>    0.981</td> <td>   -7.428</td> <td> 0.000</td> <td>   -9.206</td> <td>   -5.362</td>\n",
       "</tr>\n",
       "<tr>\n",
       "  <th>TODD_M</th>            <td>   -5.4225</td> <td>    0.606</td> <td>   -8.944</td> <td> 0.000</td> <td>   -6.611</td> <td>   -4.234</td>\n",
       "</tr>\n",
       "<tr>\n",
       "  <th>TODD_N</th>            <td>  -28.7957</td> <td>    0.647</td> <td>  -44.492</td> <td> 0.000</td> <td>  -30.064</td> <td>  -27.527</td>\n",
       "</tr>\n",
       "</table>\n",
       "<table class=\"simpletable\">\n",
       "<tr>\n",
       "  <th>Omnibus:</th>       <td>8979.899</td> <th>  Durbin-Watson:     </th> <td>   2.872</td> \n",
       "</tr>\n",
       "<tr>\n",
       "  <th>Prob(Omnibus):</th>  <td> 0.000</td>  <th>  Jarque-Bera (JB):  </th> <td>11681.068</td>\n",
       "</tr>\n",
       "<tr>\n",
       "  <th>Skew:</th>           <td>-0.378</td>  <th>  Prob(JB):          </th> <td>    0.00</td> \n",
       "</tr>\n",
       "<tr>\n",
       "  <th>Kurtosis:</th>       <td> 3.688</td>  <th>  Cond. No.          </th> <td>    146.</td> \n",
       "</tr>\n",
       "</table><br/><br/>Warnings:<br/>[1] Standard Errors assume that the covariance matrix of the errors is correctly specified."
      ],
      "text/plain": [
       "<class 'statsmodels.iolib.summary.Summary'>\n",
       "\"\"\"\n",
       "                            OLS Regression Results                            \n",
       "==============================================================================\n",
       "Dep. Variable:                  price   R-squared:                       0.702\n",
       "Model:                            OLS   Adj. R-squared:                  0.702\n",
       "Method:                 Least Squares   F-statistic:                 1.663e+04\n",
       "Date:                Thu, 27 Feb 2020   Prob (F-statistic):               0.00\n",
       "Time:                        10:17:37   Log-Likelihood:            -1.6940e+06\n",
       "No. Observations:              268524   AIC:                         3.388e+06\n",
       "Df Residuals:                  268485   BIC:                         3.389e+06\n",
       "Df Model:                          38                                         \n",
       "Covariance Type:            nonrobust                                         \n",
       "=====================================================================================\n",
       "                        coef    std err          t      P>|t|      [0.025      0.975]\n",
       "-------------------------------------------------------------------------------------\n",
       "Intercept           601.7202      2.346    256.436      0.000     597.121     606.319\n",
       "traAirport          -30.7154      1.891    -16.241      0.000     -34.422     -27.009\n",
       "TOPDL_1              -2.7012      0.919     -2.939      0.003      -4.502      -0.900\n",
       "MOPD_02               3.1663      1.626      1.947      0.052      -0.022       6.354\n",
       "MOPD_03               8.2632      2.251      3.671      0.000       3.852      12.675\n",
       "MOPD_04              32.1878      3.524      9.133      0.000      25.280      39.096\n",
       "MOPD_05              31.2295      8.904      3.507      0.000      13.778      48.681\n",
       "MOPD_06              43.4544      9.375      4.635      0.000      25.080      61.829\n",
       "MOPD_07              44.1114      9.840      4.483      0.000      24.826      63.397\n",
       "dateDifference_1     -3.5535      2.171     -1.637      0.102      -7.809       0.702\n",
       "dateDifference_2     -6.8493      2.173     -3.152      0.002     -11.109      -2.590\n",
       "dateDifference_3    -14.8201      2.223     -6.667      0.000     -19.177     -10.463\n",
       "dateDifference_4    -13.4603      2.211     -6.087      0.000     -17.794      -9.126\n",
       "dateDifference_5    -16.2411      2.218     -7.324      0.000     -20.587     -11.895\n",
       "dateDifference_6    -22.6726      2.215    -10.237      0.000     -27.014     -18.332\n",
       "dateDifference_7    -23.1158      2.229    -10.369      0.000     -27.485     -18.747\n",
       "dateDifference_13   -20.6132      7.306     -2.821      0.005     -34.933      -6.294\n",
       "dateDifference_14   -16.9400      2.610     -6.490      0.000     -22.056     -11.824\n",
       "dateDifference_15   -20.7391      2.413     -8.596      0.000     -25.468     -16.010\n",
       "dateDifference_28    -8.9857      7.960     -1.129      0.259     -24.587       6.615\n",
       "dateDifference_29    -9.8087      2.876     -3.411      0.001     -15.445      -4.172\n",
       "dateDifference_30    -5.1422      2.868     -1.793      0.073     -10.764       0.480\n",
       "cabinClass_F        107.0382      0.953    112.346      0.000     105.171     108.906\n",
       "cabinClass_Y       -385.3173      0.615   -626.653      0.000    -386.522    -384.112\n",
       "Month_02            -43.5838      1.633    -26.690      0.000     -46.784     -40.383\n",
       "Month_03            -18.3631      2.224     -8.259      0.000     -22.721     -14.005\n",
       "Month_04             -7.6753      3.198     -2.400      0.016     -13.944      -1.407\n",
       "Month_05            -31.3575      8.904     -3.522      0.000     -48.809     -13.906\n",
       "Month_06            -54.4421      9.354     -5.820      0.000     -72.775     -36.109\n",
       "Month_07            -54.5596      9.840     -5.545      0.000     -73.845     -35.274\n",
       "Month_08            -63.6111     10.750     -5.917      0.000     -84.682     -42.541\n",
       "DOW_Monday          -27.2207      0.982    -27.717      0.000     -29.146     -25.296\n",
       "DOW_Saturday        -37.6823      0.975    -38.658      0.000     -39.593     -35.772\n",
       "DOW_Sunday          -21.5001      0.972    -22.124      0.000     -23.405     -19.595\n",
       "DOW_Thursday         -4.6317      0.981     -4.721      0.000      -6.555      -2.709\n",
       "DOW_Tuesday         -20.9720      0.991    -21.155      0.000     -22.915     -19.029\n",
       "DOW_Wednesday        -7.2838      0.981     -7.428      0.000      -9.206      -5.362\n",
       "TODD_M               -5.4225      0.606     -8.944      0.000      -6.611      -4.234\n",
       "TODD_N              -28.7957      0.647    -44.492      0.000     -30.064     -27.527\n",
       "==============================================================================\n",
       "Omnibus:                     8979.899   Durbin-Watson:                   2.872\n",
       "Prob(Omnibus):                  0.000   Jarque-Bera (JB):            11681.068\n",
       "Skew:                          -0.378   Prob(JB):                         0.00\n",
       "Kurtosis:                       3.688   Cond. No.                         146.\n",
       "==============================================================================\n",
       "\n",
       "Warnings:\n",
       "[1] Standard Errors assume that the covariance matrix of the errors is correctly specified.\n",
       "\"\"\""
      ]
     },
     "execution_count": 84,
     "metadata": {},
     "output_type": "execute_result"
    }
   ],
   "source": [
    "outcome1 = 'price'\n",
    "predictors1 = final_df1.drop('price', axis =1)\n",
    "pred_sum1 = '+'.join(predictors1.columns)\n",
    "formula1 = outcome1 +'~'+ pred_sum1\n",
    "model1 = ols(formula = formula1, data = final_df1).fit()\n",
    "model1.summary()"
   ]
  },
  {
   "cell_type": "code",
   "execution_count": 85,
   "metadata": {},
   "outputs": [],
   "source": [
    "target1 = final_df1.price"
   ]
  },
  {
   "cell_type": "code",
   "execution_count": 86,
   "metadata": {},
   "outputs": [],
   "source": [
    "features1 = ['traAirport', 'TOPDL_1', 'MOPD_02', 'MOPD_03', 'MOPD_04',\n",
    "       'MOPD_05', 'MOPD_06', 'MOPD_07', 'cabinClass_F', 'cabinClass_Y',\n",
    "       'Month_02', 'Month_03', 'Month_04', 'Month_05', 'Month_06', 'Month_07',\n",
    "       'Month_08', 'DOW_Monday', 'DOW_Saturday', 'DOW_Sunday', 'DOW_Thursday',\n",
    "       'DOW_Tuesday', 'DOW_Wednesday', 'TODD_M', 'TODD_N', 'dateDifference_2',\n",
    "       'dateDifference_3', 'dateDifference_4', 'dateDifference_5',\n",
    "       'dateDifference_6', 'dateDifference_7', 'dateDifference_15',\n",
    "       'dateDifference_30']"
   ]
  },
  {
   "cell_type": "code",
   "execution_count": 87,
   "metadata": {},
   "outputs": [
    {
     "name": "stdout",
     "output_type": "stream",
     "text": [
      "Training set - Features:  (214819, 33) Target:  (214819,)\n",
      "Training set - Features:  (53705, 33) Target:  (53705,)\n"
     ]
    }
   ],
   "source": [
    "#improt train_test_split from sklearn package\n",
    "\n",
    "\n",
    "#call train_test_split on the data and capture the results\n",
    "X_train, X_test, y_train, y_test = train_test_split(final_df1[features1], target1, random_state=34,test_size=0.2)\n",
    "\n",
    "#check the shape of the results\n",
    "print(\"Training set - Features: \", X_train.shape, \"Target: \", y_train.shape)\n",
    "print(\"Training set - Features: \", X_test.shape, \"Target: \",y_test.shape)"
   ]
  },
  {
   "cell_type": "code",
   "execution_count": 88,
   "metadata": {},
   "outputs": [
    {
     "name": "stdout",
     "output_type": "stream",
     "text": [
      "596.8183250500733\n",
      "[ -30.27646851   -3.86046171    1.79770903    6.65215229   31.703521\n",
      "   34.39270696   51.48714632   54.14538321  107.19569525 -385.16478433\n",
      "  -42.78470529  -16.46750737   -6.54505516  -35.31383925  -61.21508198\n",
      "  -64.45270196  -78.222315    -26.52475555  -37.24482231  -21.24664538\n",
      "   -4.10755712  -20.89458367   -7.14624978   -5.3636098   -29.37722007\n",
      "   -2.13521905  -10.52200874   -8.06749204  -11.59499266  -18.35308629\n",
      "  -18.17296405  -16.46930753    1.32070625]\n"
     ]
    }
   ],
   "source": [
    "# fit a model\n",
    "\n",
    "\n",
    "#instantiate a linear regression object\n",
    "lm = linear_model.LinearRegression()\n",
    "\n",
    "#fit the linear regression to the data\n",
    "lm = lm.fit(X_train, y_train)\n",
    "\n",
    "\n",
    "print(lm.intercept_)\n",
    "print(lm.coef_)"
   ]
  },
  {
   "cell_type": "code",
   "execution_count": 89,
   "metadata": {},
   "outputs": [
    {
     "name": "stdout",
     "output_type": "stream",
     "text": [
      "R^2 Score: 0.7018363918510433\n"
     ]
    }
   ],
   "source": [
    "print (\"R^2 Score:\", lm.score(X_train, y_train))\n"
   ]
  },
  {
   "cell_type": "code",
   "execution_count": 90,
   "metadata": {},
   "outputs": [],
   "source": [
    "y_train_pred = lm.predict(X_train)"
   ]
  },
  {
   "cell_type": "code",
   "execution_count": 91,
   "metadata": {},
   "outputs": [
    {
     "name": "stdout",
     "output_type": "stream",
     "text": [
      "Mean Absolute Error: 94.65694785828407\n",
      "Mean Squared Error: 17662.385448688347\n",
      "Root Mean Squared Error: 132.89990763235446\n"
     ]
    }
   ],
   "source": [
    "#import the metrics module from sklearn\n",
    "from sklearn import metrics\n",
    "\n",
    "train_mae1 = metrics.mean_absolute_error(y_train, y_train_pred)\n",
    "train_mse1 = metrics.mean_squared_error(y_train, y_train_pred)\n",
    "train_rmse1 = np.sqrt(metrics.mean_squared_error(y_train, y_train_pred))\n",
    "\n",
    "\n",
    "print('Mean Absolute Error:', train_mae1 )\n",
    "print('Mean Squared Error:',  train_mse1)\n",
    "print('Root Mean Squared Error:' , train_rmse1)"
   ]
  },
  {
   "cell_type": "code",
   "execution_count": 92,
   "metadata": {},
   "outputs": [
    {
     "name": "stdout",
     "output_type": "stream",
     "text": [
      "243.4177091380207\n",
      "Mean Absolute Error: 0.3888663162326142\n",
      "Root Mean Squared Error: 0.5459746873100291\n"
     ]
    }
   ],
   "source": [
    "price_std = target1.std()\n",
    "print(price_std)\n",
    "print('Mean Absolute Error:', train_mae1/price_std )\n",
    "print('Root Mean Squared Error:' , train_rmse1/price_std)"
   ]
  },
  {
   "cell_type": "code",
   "execution_count": 93,
   "metadata": {},
   "outputs": [],
   "source": [
    "y_pred1 = lm.predict(X_test)"
   ]
  },
  {
   "cell_type": "code",
   "execution_count": 94,
   "metadata": {},
   "outputs": [
    {
     "name": "stdout",
     "output_type": "stream",
     "text": [
      "Score: 0.7015972158987995\n"
     ]
    }
   ],
   "source": [
    "print (\"Score:\", lm.score(X_test, y_test))\n"
   ]
  },
  {
   "cell_type": "code",
   "execution_count": 95,
   "metadata": {},
   "outputs": [
    {
     "name": "stdout",
     "output_type": "stream",
     "text": [
      "Mean Absolute Error:94.64357635321281\n",
      "Mean Squared Error:17698.516306397585\n",
      "Root Mean Squared Error:133.03577077762802\n"
     ]
    }
   ],
   "source": [
    "test_mae1 = metrics.mean_absolute_error(y_test, y_pred1)\n",
    "test_rmse1 = np.sqrt(metrics.mean_squared_error(y_test, y_pred1))\n",
    "\n",
    "\n",
    "print('Mean Absolute Error:' + str(metrics.mean_absolute_error(y_test, y_pred1)))\n",
    "print('Mean Squared Error:' + str(metrics.mean_squared_error(y_test, y_pred1)))\n",
    "print('Root Mean Squared Error:' + str(np.sqrt(metrics.mean_squared_error(y_test, y_pred1))))"
   ]
  },
  {
   "cell_type": "code",
   "execution_count": 96,
   "metadata": {},
   "outputs": [
    {
     "name": "stdout",
     "output_type": "stream",
     "text": [
      "Mean Absolute Error  Z: 0.38881138388969383\n",
      "Root Mean Squared Error Z: 0.546532835465127\n"
     ]
    }
   ],
   "source": [
    "print('Mean Absolute Error  Z:', test_mae1/price_std )\n",
    "print('Root Mean Squared Error Z:' , test_rmse1/price_std)"
   ]
  },
  {
   "cell_type": "code",
   "execution_count": 97,
   "metadata": {},
   "outputs": [
    {
     "name": "stdout",
     "output_type": "stream",
     "text": [
      "Training:  132 vs. Testing:  133\n"
     ]
    }
   ],
   "source": [
    "print('Training: ', int(train_rmse1), \"vs. Testing: \", int(test_rmse1))"
   ]
  },
  {
   "cell_type": "code",
   "execution_count": 98,
   "metadata": {},
   "outputs": [
    {
     "data": {
      "text/plain": [
       "Lasso(alpha=0.1, copy_X=True, fit_intercept=True, max_iter=1000,\n",
       "      normalize=False, positive=False, precompute=False, random_state=None,\n",
       "      selection='cyclic', tol=0.0001, warm_start=False)"
      ]
     },
     "execution_count": 98,
     "metadata": {},
     "output_type": "execute_result"
    }
   ],
   "source": [
    "\n",
    "ridge_011 = Ridge(alpha=0.1)\n",
    "ridge_011.fit(X_train, y_train)\n",
    "\n",
    "lasso_011 = Lasso(alpha=0.1)\n",
    "lasso_011.fit(X_train, y_train)"
   ]
  },
  {
   "cell_type": "code",
   "execution_count": 99,
   "metadata": {},
   "outputs": [
    {
     "name": "stdout",
     "output_type": "stream",
     "text": [
      "Lasso Regression Coefficients are:[ -24.53549158   -2.91046572   -1.96819552   -0.           15.03017097\n",
      "   -5.95459137    0.           -1.08167365  106.42126515 -385.26485235\n",
      "  -37.52098419   -8.22941542    6.34169026    5.58548933   -9.7443875\n",
      "   -7.23574106   -9.96961057  -21.95149182  -33.09257183  -16.71656405\n",
      "    0.          -16.53280901   -2.46829278   -4.37437394  -28.25984527\n",
      "    1.89364666   -5.25578044   -2.90344114   -6.49199948  -13.522945\n",
      "  -13.11320401  -11.14505137   -0.        ]\n",
      "550.8684947788237\n",
      "Lasso Linear Regression Intercept:586.6512281336961\n"
     ]
    }
   ],
   "source": [
    "print(\"Lasso Regression Coefficients are:{}\".format(lasso_011.coef_))\n",
    "print(abs(lasso_01.coef_.sum()))\n",
    "print(\"Lasso Linear Regression Intercept:{}\".format(lasso_011.intercept_))"
   ]
  },
  {
   "cell_type": "code",
   "execution_count": 100,
   "metadata": {},
   "outputs": [
    {
     "name": "stdout",
     "output_type": "stream",
     "text": [
      "Ridge Regression Coefficients are:[ -30.27561355   -3.86212756    1.78858118    6.63567752   31.65673649\n",
      "   34.17292801   51.25592928   53.90529726  107.19580241 -385.16407926\n",
      "  -42.77608296  -16.4512335    -6.50496659  -35.09421189  -60.98421599\n",
      "  -64.21173849  -77.97238897  -26.5235653   -37.24410746  -21.24504521\n",
      "   -4.10594029  -20.89427179   -7.1450498    -5.36356009  -29.37711236\n",
      "   -2.13358598  -10.52098513   -8.06648207  -11.5943471   -18.35268847\n",
      "  -18.17261562  -16.47133528    1.30131921]\n",
      "672.5950793607346\n",
      "Ridge Linear Regression Intercept:596.8156229206736\n"
     ]
    }
   ],
   "source": [
    "print(\"Ridge Regression Coefficients are:{}\".format(ridge_011.coef_))\n",
    "print(abs(ridge_011.coef_.sum()))\n",
    "print(\"Ridge Linear Regression Intercept:{}\".format(ridge_011.intercept_))"
   ]
  },
  {
   "cell_type": "code",
   "execution_count": 101,
   "metadata": {},
   "outputs": [
    {
     "data": {
      "text/plain": [
       "(53705, 33)"
      ]
     },
     "execution_count": 101,
     "metadata": {},
     "output_type": "execute_result"
    }
   ],
   "source": [
    "X_test.shape"
   ]
  },
  {
   "cell_type": "code",
   "execution_count": 104,
   "metadata": {},
   "outputs": [],
   "source": [
    "y_h_ridge_train_011 = ridge_011.predict(X_train)\n",
    "y_h_ridge_test_011 = ridge_011.predict(X_test)\n",
    "\n",
    "y_h_lasso_train_011 = np.reshape(lasso_011.predict(X_train),(214819,1))\n",
    "y_h_lasso_test_011 = np.reshape(lasso_011.predict(X_test),(53705,1))\n",
    "\n",
    "y_h_lin_train1 = lm.predict(X_train)\n",
    "y_h_lin_test1 = lm.predict(X_test)"
   ]
  },
  {
   "cell_type": "code",
   "execution_count": 105,
   "metadata": {},
   "outputs": [
    {
     "name": "stdout",
     "output_type": "stream",
     "text": [
      "133.03577597037008\n"
     ]
    }
   ],
   "source": [
    "rmse_ridge2 = np.sqrt(metrics.mean_squared_error(y_test,y_h_ridge_test_011))\n",
    "print(rmse_ridge2)"
   ]
  },
  {
   "cell_type": "code",
   "execution_count": 106,
   "metadata": {},
   "outputs": [
    {
     "name": "stdout",
     "output_type": "stream",
     "text": [
      "133.07910109870096\n"
     ]
    }
   ],
   "source": [
    "rmse_lasso2 = np.sqrt(metrics.mean_squared_error(y_test,y_h_lasso_test_011))\n",
    "print(rmse_lasso2)"
   ]
  },
  {
   "cell_type": "code",
   "execution_count": null,
   "metadata": {},
   "outputs": [],
   "source": []
  }
 ],
 "metadata": {
  "kernelspec": {
   "display_name": "Python [conda env:learn-env] *",
   "language": "python",
   "name": "conda-env-learn-env-py"
  },
  "language_info": {
   "codemirror_mode": {
    "name": "ipython",
    "version": 3
   },
   "file_extension": ".py",
   "mimetype": "text/x-python",
   "name": "python",
   "nbconvert_exporter": "python",
   "pygments_lexer": "ipython3",
   "version": "3.6.9"
  },
  "toc": {
   "base_numbering": 1,
   "nav_menu": {},
   "number_sections": true,
   "sideBar": true,
   "skip_h1_title": false,
   "title_cell": "Table of Contents",
   "title_sidebar": "Contents",
   "toc_cell": false,
   "toc_position": {
    "height": "calc(100% - 180px)",
    "left": "10px",
    "top": "150px",
    "width": "199px"
   },
   "toc_section_display": true,
   "toc_window_display": true
  }
 },
 "nbformat": 4,
 "nbformat_minor": 2
}
